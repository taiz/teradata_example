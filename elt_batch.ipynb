{
 "cells": [
  {
   "cell_type": "markdown",
   "id": "7c80e233-6719-463d-903c-597eb5a92af0",
   "metadata": {},
   "source": [
    "# Teradata Dataframeを主体としたELT(Extract/Load/Transform)バッチ処理のサンプル"
   ]
  },
  {
   "cell_type": "markdown",
   "id": "cfba303e-aef1-4efd-b8ed-21cfe7fb1717",
   "metadata": {},
   "source": [
    "## 1. 背景と目的\n",
    "\n",
    "teradatamlパッケージに含まれるTeradata Dataframeは大変強力な機能を有している。\n",
    "もちろんデータ分析で有用であるが、同時にバッチ処理でも有効であると考えられる。\n",
    "\n",
    "伝統的なTeradataのバッチ処理は、Shell Script/Bteq Scriptで記述されている。しかし、左記の組み合わせは、記述力が弱く冗長、煩雑になりがちである。\n",
    "これに対して、teradatamlのTeradata Dataframeは、当然ながらPythonでのプログラミングが可能であり、これは大きな可能性を持っている。\n",
    "\n",
    "1. 各種の関数化、ライブラリ化が可能となる\n",
    "2. PyTestなどの強力なテストフレームワークを利用することが可能になる\n",
    "\n",
    "つまり、これまでの手動テストや、同じような処理の重複した記述を廃することができる。これにより、モダンなソフトウェア開発の手法が適用可能となる。\n",
    "ひいては開発生産性の大幅な向上が期待できる。\n",
    "\n",
    "本稿では、このバッチ処理開発のモダン化の可能性を考察する。"
   ]
  },
  {
   "cell_type": "markdown",
   "id": "80f59b5a-e3dc-410f-8080-c9fcca42a815",
   "metadata": {},
   "source": [
    "## 2. 方針\n",
    "\n",
    "以下をサンプルとして実装し、機能性や記述性を考察する。\n",
    "\n",
    "1. 典型的なELTバッチ処理の以下を実装する\n",
    "   - CSVロード\n",
    "   - ジョインによる変換とフィルタリング\n",
    "   - SUMなどの集約とテーブル出力\n",
    "2. Python UDF(User Defined Function)による複雑なデータ変換"
   ]
  },
  {
   "cell_type": "markdown",
   "id": "47bf6ea9-8637-4a72-9dc8-8bedfc43eb2a",
   "metadata": {},
   "source": [
    "## 3. 実装"
   ]
  },
  {
   "cell_type": "markdown",
   "id": "47805bc6-3b48-4cf2-b5fb-c871267d9760",
   "metadata": {},
   "source": [
    "### 3-0. DB接続"
   ]
  },
  {
   "cell_type": "code",
   "execution_count": 1,
   "id": "19013704-2cdd-4348-8744-967ed82f02ea",
   "metadata": {},
   "outputs": [],
   "source": [
    "user = 'dbc'\n",
    "password = 'dbc'\n",
    "host = \"192.168.11.9\"\n",
    "database = \"example\"\n",
    "dbs_port = 1025"
   ]
  },
  {
   "cell_type": "code",
   "execution_count": 2,
   "id": "d3ef476e-080d-4452-a638-250ac7f47e0b",
   "metadata": {},
   "outputs": [],
   "source": [
    "import sqlalchemy\n",
    "engine = sqlalchemy.create_engine((\n",
    "  f\"teradatasql://{user}:{password}@{host}/?\"\n",
    "  f\"&database={database}\"\n",
    "  f\"&dbs_port={dbs_port}\"\n",
    "))"
   ]
  },
  {
   "cell_type": "code",
   "execution_count": 3,
   "id": "d504e713-d4c8-424c-9e99-9ab05ac4e06e",
   "metadata": {},
   "outputs": [],
   "source": [
    "import teradataml as tdml\n",
    "context = tdml.create_context(tdsqlengine=engine)"
   ]
  },
  {
   "cell_type": "markdown",
   "id": "497c8aae-ac8a-4ee8-9829-c31f014c2765",
   "metadata": {},
   "source": [
    "### 3-1. CSVロード\n",
    "\n",
    "二つのCSVファイルをロードする\n",
    "1. Irisデータセット\n",
    "   - 機械学習のベンチマークで用いられる一般的なデータ。[scikit-learn](https://scikit-learn.org/stable/)で簡単に入手可能\n",
    "   - FastLoadを利用する\n",
    "2. ダミーのマスターデータ\n",
    "   - 何らかジョインを試したいので、追加したデータ\n",
    "   - FastLoadを利用しない"
   ]
  },
  {
   "cell_type": "markdown",
   "id": "14a28987-c136-4086-9373-4694b21a8c9e",
   "metadata": {},
   "source": [
    "#### Irisデータセット"
   ]
  },
  {
   "cell_type": "code",
   "execution_count": 4,
   "id": "dcaef1a3-f099-499e-9de1-9fae62f39c7b",
   "metadata": {},
   "outputs": [
    {
     "data": {
      "text/html": [
       "<div>\n",
       "<style scoped>\n",
       "    .dataframe tbody tr th:only-of-type {\n",
       "        vertical-align: middle;\n",
       "    }\n",
       "\n",
       "    .dataframe tbody tr th {\n",
       "        vertical-align: top;\n",
       "    }\n",
       "\n",
       "    .dataframe thead th {\n",
       "        text-align: right;\n",
       "    }\n",
       "</style>\n",
       "<table border=\"1\" class=\"dataframe\">\n",
       "  <thead>\n",
       "    <tr style=\"text-align: right;\">\n",
       "      <th></th>\n",
       "      <th>idx</th>\n",
       "      <th>sepallength</th>\n",
       "      <th>sepalwidth</th>\n",
       "      <th>petallength</th>\n",
       "      <th>petalwidth</th>\n",
       "      <th>target</th>\n",
       "    </tr>\n",
       "  </thead>\n",
       "  <tbody>\n",
       "    <tr>\n",
       "      <th>0</th>\n",
       "      <td>1</td>\n",
       "      <td>5.1</td>\n",
       "      <td>3.5</td>\n",
       "      <td>1.4</td>\n",
       "      <td>0.2</td>\n",
       "      <td>setosa</td>\n",
       "    </tr>\n",
       "    <tr>\n",
       "      <th>1</th>\n",
       "      <td>2</td>\n",
       "      <td>4.9</td>\n",
       "      <td>3.0</td>\n",
       "      <td>1.4</td>\n",
       "      <td>0.2</td>\n",
       "      <td>setosa</td>\n",
       "    </tr>\n",
       "    <tr>\n",
       "      <th>2</th>\n",
       "      <td>3</td>\n",
       "      <td>4.7</td>\n",
       "      <td>3.2</td>\n",
       "      <td>1.3</td>\n",
       "      <td>0.2</td>\n",
       "      <td>setosa</td>\n",
       "    </tr>\n",
       "    <tr>\n",
       "      <th>3</th>\n",
       "      <td>4</td>\n",
       "      <td>4.6</td>\n",
       "      <td>3.1</td>\n",
       "      <td>1.5</td>\n",
       "      <td>0.2</td>\n",
       "      <td>setosa</td>\n",
       "    </tr>\n",
       "    <tr>\n",
       "      <th>4</th>\n",
       "      <td>5</td>\n",
       "      <td>5.0</td>\n",
       "      <td>3.6</td>\n",
       "      <td>1.4</td>\n",
       "      <td>0.2</td>\n",
       "      <td>setosa</td>\n",
       "    </tr>\n",
       "    <tr>\n",
       "      <th>...</th>\n",
       "      <td>...</td>\n",
       "      <td>...</td>\n",
       "      <td>...</td>\n",
       "      <td>...</td>\n",
       "      <td>...</td>\n",
       "      <td>...</td>\n",
       "    </tr>\n",
       "    <tr>\n",
       "      <th>145</th>\n",
       "      <td>146</td>\n",
       "      <td>6.7</td>\n",
       "      <td>3.0</td>\n",
       "      <td>5.2</td>\n",
       "      <td>2.3</td>\n",
       "      <td>virginica</td>\n",
       "    </tr>\n",
       "    <tr>\n",
       "      <th>146</th>\n",
       "      <td>147</td>\n",
       "      <td>6.3</td>\n",
       "      <td>2.5</td>\n",
       "      <td>5.0</td>\n",
       "      <td>1.9</td>\n",
       "      <td>virginica</td>\n",
       "    </tr>\n",
       "    <tr>\n",
       "      <th>147</th>\n",
       "      <td>148</td>\n",
       "      <td>6.5</td>\n",
       "      <td>3.0</td>\n",
       "      <td>5.2</td>\n",
       "      <td>2.0</td>\n",
       "      <td>virginica</td>\n",
       "    </tr>\n",
       "    <tr>\n",
       "      <th>148</th>\n",
       "      <td>149</td>\n",
       "      <td>6.2</td>\n",
       "      <td>3.4</td>\n",
       "      <td>5.4</td>\n",
       "      <td>2.3</td>\n",
       "      <td>virginica</td>\n",
       "    </tr>\n",
       "    <tr>\n",
       "      <th>149</th>\n",
       "      <td>150</td>\n",
       "      <td>5.9</td>\n",
       "      <td>3.0</td>\n",
       "      <td>5.1</td>\n",
       "      <td>1.8</td>\n",
       "      <td>virginica</td>\n",
       "    </tr>\n",
       "  </tbody>\n",
       "</table>\n",
       "<p>150 rows × 6 columns</p>\n",
       "</div>"
      ],
      "text/plain": [
       "     idx  sepallength  sepalwidth  petallength  petalwidth     target\n",
       "0      1          5.1         3.5          1.4         0.2     setosa\n",
       "1      2          4.9         3.0          1.4         0.2     setosa\n",
       "2      3          4.7         3.2          1.3         0.2     setosa\n",
       "3      4          4.6         3.1          1.5         0.2     setosa\n",
       "4      5          5.0         3.6          1.4         0.2     setosa\n",
       "..   ...          ...         ...          ...         ...        ...\n",
       "145  146          6.7         3.0          5.2         2.3  virginica\n",
       "146  147          6.3         2.5          5.0         1.9  virginica\n",
       "147  148          6.5         3.0          5.2         2.0  virginica\n",
       "148  149          6.2         3.4          5.4         2.3  virginica\n",
       "149  150          5.9         3.0          5.1         1.8  virginica\n",
       "\n",
       "[150 rows x 6 columns]"
      ]
     },
     "execution_count": 4,
     "metadata": {},
     "output_type": "execute_result"
    }
   ],
   "source": [
    "# ダウンロードして、Pandas Dataframeとして保持する\n",
    "import pandas as pd\n",
    "from sklearn import datasets\n",
    "\n",
    "iris = datasets.load_iris()\n",
    "pd_df = pd.DataFrame(iris.data, columns=iris.feature_names)\n",
    "pd_df['target'] = iris.target_names[iris.target]\n",
    "pd_df.columns = ['sepallength', 'sepalwidth', 'petallength', 'petalwidth', 'target']\n",
    "pd_df.insert(loc=0, column='idx', value=pd_df.index + 1)\n",
    "pd_df"
   ]
  },
  {
   "cell_type": "code",
   "execution_count": 5,
   "id": "8ab5d570-822f-4cac-af8c-afcd013985dd",
   "metadata": {},
   "outputs": [],
   "source": [
    "# CSVファイルに出力する\n",
    "pd_df.to_csv('iris.csv', index=False)"
   ]
  },
  {
   "cell_type": "code",
   "execution_count": 6,
   "id": "8bb48c95-3ab0-4d75-ac44-ef0baa28f5e9",
   "metadata": {},
   "outputs": [
    {
     "data": {
      "text/html": [
       "<style type=\"text/css\">\n",
       "\ttable {border:ridge 5px;}\n",
       "\ttable td {border:inset 1px;}\n",
       "\ttable tr#HeaderRow {background-color:grey; color:white;}</style>\n",
       "<html><table>\n",
       "\t<tr id=\"HeaderRow\">\n",
       "\t\t<th>idx</th>\n",
       "\t\t<th>sepallength</th>\n",
       "\t\t<th>sepalwidth</th>\n",
       "\t\t<th>petallength</th>\n",
       "\t\t<th>petalwidth</th>\n",
       "\t\t<th>target</th>\n",
       "\t</tr>\n",
       "\t<tr>\n",
       "\t\t<td>141</td>\n",
       "\t\t<td>6.7</td>\n",
       "\t\t<td>3.1</td>\n",
       "\t\t<td>5.6</td>\n",
       "\t\t<td>2.4</td>\n",
       "\t\t<td>virginica</td>\n",
       "\t</tr>\n",
       "\t<tr>\n",
       "\t\t<td>99</td>\n",
       "\t\t<td>5.1</td>\n",
       "\t\t<td>2.5</td>\n",
       "\t\t<td>3.0</td>\n",
       "\t\t<td>1.1</td>\n",
       "\t\t<td>versicolor</td>\n",
       "\t</tr>\n",
       "\t<tr>\n",
       "\t\t<td>17</td>\n",
       "\t\t<td>5.4</td>\n",
       "\t\t<td>3.9</td>\n",
       "\t\t<td>1.3</td>\n",
       "\t\t<td>0.4</td>\n",
       "\t\t<td>setosa</td>\n",
       "\t</tr>\n",
       "\t<tr>\n",
       "\t\t<td>139</td>\n",
       "\t\t<td>6.0</td>\n",
       "\t\t<td>3.0</td>\n",
       "\t\t<td>4.8</td>\n",
       "\t\t<td>1.8</td>\n",
       "\t\t<td>virginica</td>\n",
       "\t</tr>\n",
       "\t<tr>\n",
       "\t\t<td>15</td>\n",
       "\t\t<td>5.8</td>\n",
       "\t\t<td>4.0</td>\n",
       "\t\t<td>1.2</td>\n",
       "\t\t<td>0.2</td>\n",
       "\t\t<td>setosa</td>\n",
       "\t</tr>\n",
       "\t<tr>\n",
       "\t\t<td>137</td>\n",
       "\t\t<td>6.3</td>\n",
       "\t\t<td>3.4</td>\n",
       "\t\t<td>5.6</td>\n",
       "\t\t<td>2.4</td>\n",
       "\t\t<td>virginica</td>\n",
       "\t</tr>\n",
       "\t<tr>\n",
       "\t\t<td>118</td>\n",
       "\t\t<td>7.7</td>\n",
       "\t\t<td>3.8</td>\n",
       "\t\t<td>6.7</td>\n",
       "\t\t<td>2.2</td>\n",
       "\t\t<td>virginica</td>\n",
       "\t</tr>\n",
       "\t<tr>\n",
       "\t\t<td>120</td>\n",
       "\t\t<td>6.0</td>\n",
       "\t\t<td>2.2</td>\n",
       "\t\t<td>5.0</td>\n",
       "\t\t<td>1.5</td>\n",
       "\t\t<td>virginica</td>\n",
       "\t</tr>\n",
       "\t<tr>\n",
       "\t\t<td>101</td>\n",
       "\t\t<td>6.3</td>\n",
       "\t\t<td>3.3</td>\n",
       "\t\t<td>6.0</td>\n",
       "\t\t<td>2.5</td>\n",
       "\t\t<td>virginica</td>\n",
       "\t</tr>\n",
       "\t<tr>\n",
       "\t\t<td>122</td>\n",
       "\t\t<td>5.6</td>\n",
       "\t\t<td>2.8</td>\n",
       "\t\t<td>4.9</td>\n",
       "\t\t<td>2.0</td>\n",
       "\t\t<td>virginica</td>\n",
       "\t</tr>\n",
       "</table></html>"
      ],
      "text/plain": [
       "     sepallength  sepalwidth  petallength  petalwidth      target\n",
       "idx                                                              \n",
       "141          6.7         3.1          5.6         2.4   virginica\n",
       "99           5.1         2.5          3.0         1.1  versicolor\n",
       "17           5.4         3.9          1.3         0.4      setosa\n",
       "139          6.0         3.0          4.8         1.8   virginica\n",
       "15           5.8         4.0          1.2         0.2      setosa\n",
       "137          6.3         3.4          5.6         2.4   virginica\n",
       "118          7.7         3.8          6.7         2.2   virginica\n",
       "120          6.0         2.2          5.0         1.5   virginica\n",
       "101          6.3         3.3          6.0         2.5   virginica\n",
       "122          5.6         2.8          4.9         2.0   virginica"
      ]
     },
     "execution_count": 6,
     "metadata": {},
     "output_type": "execute_result"
    }
   ],
   "source": [
    "# FastLoadする\n",
    "# 参考 https://docs.teradata.com/r/Enterprise_IntelliFlex_VMware/Teradata-Package-for-Python-User-Guide/teradataml-General-Functions/Data-Transfer-Utility/Loading-Data-from-CSV-to-Vantage/read_csv\n",
    "\n",
    "from collections import OrderedDict\n",
    "from teradatasqlalchemy import INTEGER, VARCHAR, FLOAT\n",
    "\n",
    "# Delete All\n",
    "with engine.connect() as conn:\n",
    "    conn.execute(sqlalchemy.text(\"delete from iris\"))\n",
    "\n",
    "# FastLoad\n",
    "types = OrderedDict(\n",
    "    idx=INTEGER,\n",
    "    sepallength=FLOAT,\n",
    "    sepalwidth=FLOAT,\n",
    "    petallength=FLOAT, \n",
    "    petalwidth=FLOAT,\n",
    "    target=VARCHAR,\n",
    ")\n",
    "tdml.read_csv('iris.csv', table_name='iris_temp', types=types)\n",
    "\n",
    "with engine.connect() as conn:\n",
    "    conn.execute(sqlalchemy.text(\"insert into iris select * from iris_temp\"))\n",
    "    \n",
    "# ロード結果のサンプルを表示する\n",
    "tdml.DataFrame.from_table(\"iris\")"
   ]
  },
  {
   "cell_type": "markdown",
   "id": "b4ddc67d-a594-494d-a93f-f79d74835d16",
   "metadata": {},
   "source": [
    "#### ダミーのマスターデータ"
   ]
  },
  {
   "cell_type": "code",
   "execution_count": 7,
   "id": "287a8c8c-cf75-4d92-8d9d-ee4cd78de092",
   "metadata": {},
   "outputs": [
    {
     "name": "stderr",
     "output_type": "stream",
     "text": [
      "/usr/local/lib/python3.11/site-packages/teradataml/dataframe/copy_to.py:1462: FutureWarning: Series.__getitem__ treating keys as positions is deprecated. In a future version, integer keys will always be treated as labels (consistent with DataFrame behavior). To access a value by position, use `ser.iloc[pos]`\n",
      "  TIMESTAMP(timezone=True) if pt.is_datetime64_ns_dtype(df.dtypes[key])\n",
      "/usr/local/lib/python3.11/site-packages/teradataml/dataframe/copy_to.py:1464: FutureWarning: Series.__getitem__ treating keys as positions is deprecated. In a future version, integer keys will always be treated as labels (consistent with DataFrame behavior). To access a value by position, use `ser.iloc[pos]`\n",
      "  else _get_sqlalchemy_mapping_types(str(df.dtypes[key]))\n",
      "/usr/local/lib/python3.11/site-packages/teradataml/dataframe/copy_to.py:1462: FutureWarning: Series.__getitem__ treating keys as positions is deprecated. In a future version, integer keys will always be treated as labels (consistent with DataFrame behavior). To access a value by position, use `ser.iloc[pos]`\n",
      "  TIMESTAMP(timezone=True) if pt.is_datetime64_ns_dtype(df.dtypes[key])\n",
      "/usr/local/lib/python3.11/site-packages/teradataml/dataframe/copy_to.py:1464: FutureWarning: Series.__getitem__ treating keys as positions is deprecated. In a future version, integer keys will always be treated as labels (consistent with DataFrame behavior). To access a value by position, use `ser.iloc[pos]`\n",
      "  else _get_sqlalchemy_mapping_types(str(df.dtypes[key]))\n"
     ]
    },
    {
     "data": {
      "text/html": [
       "<style type=\"text/css\">\n",
       "\ttable {border:ridge 5px;}\n",
       "\ttable td {border:inset 1px;}\n",
       "\ttable tr#HeaderRow {background-color:grey; color:white;}</style>\n",
       "<html><table>\n",
       "\t<tr id=\"HeaderRow\">\n",
       "\t\t<th>target</th>\n",
       "\t\t<th>category</th>\n",
       "\t</tr>\n",
       "\t<tr>\n",
       "\t\t<td>versicolor</td>\n",
       "\t\t<td>CAT-V</td>\n",
       "\t</tr>\n",
       "\t<tr>\n",
       "\t\t<td>versicolor</td>\n",
       "\t\t<td>CAT-V</td>\n",
       "\t</tr>\n",
       "\t<tr>\n",
       "\t\t<td>setosa</td>\n",
       "\t\t<td>CAT-S</td>\n",
       "\t</tr>\n",
       "</table></html>"
      ],
      "text/plain": [
       "           category\n",
       "target             \n",
       "versicolor    CAT-V\n",
       "versicolor    CAT-V\n",
       "setosa        CAT-S"
      ]
     },
     "execution_count": 7,
     "metadata": {},
     "output_type": "execute_result"
    }
   ],
   "source": [
    "# Pandas Dataframeをロードする\n",
    "\n",
    "import pandas as pd\n",
    "\n",
    "from teradataml.dataframe.copy_to import copy_to_sql\n",
    "\n",
    "category = [{'target': 'setosa', 'category': 'CAT-S'},\n",
    "            {'target': 'versicolor', 'category': 'CAT-V'},\n",
    "            {'target': 'versicolor', 'category': 'CAT-V'}]\n",
    "pd_category = pd.DataFrame(category)\n",
    "\n",
    "copy_to_sql(df = pd_category, table_name = \"category\", primary_index=\"target\", if_exists=\"replace\")\n",
    "\n",
    "# ロード結果のサンプルを表示する\n",
    "tdml.DataFrame.from_table(\"category\")"
   ]
  },
  {
   "cell_type": "markdown",
   "id": "6906f070-cb75-4985-a7ff-e0b335454f38",
   "metadata": {},
   "source": [
    "### 3-2. ジョインによる変換とフィルタリング"
   ]
  },
  {
   "cell_type": "markdown",
   "id": "232d6fd5-e6da-4005-9d0a-8b1d1d4bcc03",
   "metadata": {},
   "source": [
    "#### ジョイン"
   ]
  },
  {
   "cell_type": "code",
   "execution_count": 8,
   "id": "a5c05fa9-2d6f-48ae-8cc8-249620b2dfec",
   "metadata": {},
   "outputs": [],
   "source": [
    "# ジョインを実行する。この時点では、まだ、実際のSQLが実行される訳ではない (遅延評価)\n",
    "td_iris = tdml.DataFrame.from_table(\"iris\")\n",
    "td_category = tdml.DataFrame.from_table(\"category\")\n",
    "td_joined = td_iris.join(other=td_category, on=[\"target\"], how = \"inner\", lsuffix = \"t1\", rsuffix = \"t2\")"
   ]
  },
  {
   "cell_type": "code",
   "execution_count": 9,
   "id": "4844bf93-3476-4975-9a4d-0a82b3c53b6f",
   "metadata": {},
   "outputs": [
    {
     "data": {
      "text/plain": [
       "'select \"idx\", \"sepallength\", \"sepalwidth\", \"petallength\", \"petalwidth\", \"lhs\".\"target\" as \"target_t1\", \"rhs\".\"target\" as \"target_t2\", \"category\" from \"iris\" as lhs inner join \"category\" as rhs on \"lhs\".\"target\" = \"rhs\".\"target\"'"
      ]
     },
     "execution_count": 9,
     "metadata": {},
     "output_type": "execute_result"
    }
   ],
   "source": [
    "# 実際に実行されるSQLを表示してみる\n",
    "td_joined.show_query()"
   ]
  },
  {
   "cell_type": "markdown",
   "id": "0e956a5b-bf87-4e22-a573-4d0784ddb342",
   "metadata": {},
   "source": [
    "#### フィルタリング"
   ]
  },
  {
   "cell_type": "code",
   "execution_count": 10,
   "id": "619cbd3d-8da5-4d33-9309-93c65394a69e",
   "metadata": {},
   "outputs": [
    {
     "data": {
      "text/plain": [
       "'select * from (select \"idx\", \"sepallength\", \"sepalwidth\", \"petallength\", \"petalwidth\", \"lhs\".\"target\" as \"target_t1\", \"rhs\".\"target\" as \"target_t2\", \"category\" from \"iris\" as lhs inner join \"category\" as rhs on \"lhs\".\"target\" = \"rhs\".\"target\") as temp_table where sepallength > CAST(4.5 as FLOAT) AND petalwidth > CAST(0.1 as FLOAT)'"
      ]
     },
     "execution_count": 10,
     "metadata": {},
     "output_type": "execute_result"
    }
   ],
   "source": [
    "td_filtered = td_joined[(td_joined.sepallength > 4.5) & (td_joined.petalwidth > 0.1)]\n",
    "td_filtered.show_query()"
   ]
  },
  {
   "cell_type": "markdown",
   "id": "ea965227-06f0-4e85-821a-96536aba69e4",
   "metadata": {},
   "source": [
    "### 3-3. Python UDF(User Defined Function)による複雑なデータ変換"
   ]
  },
  {
   "cell_type": "code",
   "execution_count": 11,
   "id": "13a343fb-e583-4f6d-8dac-70edf6d2cb18",
   "metadata": {},
   "outputs": [],
   "source": [
    "# UDFを定義する\n",
    "from teradataml.dataframe.functions import udf\n",
    "\n",
    "@udf(returns=INTEGER()) \n",
    "def udf_example(sepallength, sepalwidth, petallength, petalwidth):\n",
    "    if sepallength / sepalwidth > petallength / petalwidth:\n",
    "        return 1\n",
    "    return 0"
   ]
  },
  {
   "cell_type": "code",
   "execution_count": 15,
   "id": "bd3e3777-aef1-44ea-b500-941f0458cd3c",
   "metadata": {
    "scrolled": true
   },
   "outputs": [
    {
     "ename": "TeradataMlException",
     "evalue": "[Teradata][teradataml](TDML_2102) Failed to execute SQL: '[Version 20.0.0.21] [Session 1105] [Teradata Database] [Error 9134] Error in function SCRIPT: SCRIPT_COMMAND returned exit value 127 - errmsg \"bash: /var/opt/teradata/languages/sles12sp3/Python//bin/python3: No such file or directory\"\n at gosqldriver/teradatasql.formatError ErrorUtil.go:92\n at gosqldriver/teradatasql.(*teradataConnection).formatDatabaseError ErrorUtil.go:252\n at gosqldriver/teradatasql.(*teradataConnection).makeChainedDatabaseError ErrorUtil.go:268\n at gosqldriver/teradatasql.(*teradataConnection).processErrorParcel TeradataConnection.go:751\n at gosqldriver/teradatasql.(*TeradataRows).processResponseBundle TeradataRows.go:2308\n at gosqldriver/teradatasql.(*TeradataRows).executeSQLRequest TeradataRows.go:874\n at gosqldriver/teradatasql.newTeradataRows TeradataRows.go:720\n at gosqldriver/teradatasql.(*teradataStatement).QueryContext TeradataStatement.go:122\n at gosqldriver/teradatasql.(*teradataConnection).QueryContext TeradataConnection.go:1261\n at database/sql.ctxDriverQuery ctxutil.go:48\n at database/sql.(*DB).queryDC.func1 sql.go:1776\n at database/sql.withLock sql.go:3530\n at database/sql.(*DB).queryDC sql.go:1771\n at database/sql.(*Conn).QueryContext sql.go:2027\n at main.createRows goside.go:1080\n at main.goCreateRows goside.go:959\n at _cgoexp_e3ee842aae7c_goCreateRows _cgo_gotypes.go:414\n at runtime.cgocallbackg1 cgocall.go:403\n at runtime.cgocallbackg cgocall.go:322\n at runtime.cgocallback asm_amd64.s:1079\n at runtime.goexit asm_amd64.s:1695'",
     "output_type": "error",
     "traceback": [
      "\u001b[0;31m---------------------------------------------------------------------------\u001b[0m",
      "\u001b[0;31mOperationalError\u001b[0m                          Traceback (most recent call last)",
      "File \u001b[0;32m/usr/local/lib/python3.11/site-packages/teradataml/table_operators/Script.py:1705\u001b[0m, in \u001b[0;36mScript.__execute\u001b[0;34m(self, output_style)\u001b[0m\n\u001b[1;32m   1704\u001b[0m \u001b[38;5;28;01mif\u001b[39;00m output_style \u001b[38;5;241m==\u001b[39m OutputStyle\u001b[38;5;241m.\u001b[39mOUTPUT_TABLE\u001b[38;5;241m.\u001b[39mvalue:\n\u001b[0;32m-> 1705\u001b[0m     \u001b[43mUtilFuncs\u001b[49m\u001b[38;5;241;43m.\u001b[39;49m\u001b[43m_create_table\u001b[49m\u001b[43m(\u001b[49m\u001b[43mtblop_stdout_temp_tablename\u001b[49m\u001b[43m,\u001b[49m\u001b[43m \u001b[49m\u001b[38;5;28;43mself\u001b[39;49m\u001b[38;5;241;43m.\u001b[39;49m\u001b[43m_tblop_query\u001b[49m\u001b[43m)\u001b[49m\n\u001b[1;32m   1706\u001b[0m \u001b[38;5;28;01melse\u001b[39;00m:\n",
      "File \u001b[0;32m/usr/local/lib/python3.11/site-packages/teradataml/telemetry_utils/queryband.py:50\u001b[0m, in \u001b[0;36mcollect_queryband.<locals>.outer_wrapper.<locals>.inner_wrapper\u001b[0;34m(*func_args, **func_kwargs)\u001b[0m\n\u001b[1;32m     45\u001b[0m \u001b[38;5;129m@wraps\u001b[39m(func)\n\u001b[1;32m     46\u001b[0m \u001b[38;5;28;01mdef\u001b[39;00m \u001b[38;5;21minner_wrapper\u001b[39m(\u001b[38;5;241m*\u001b[39mfunc_args, \u001b[38;5;241m*\u001b[39m\u001b[38;5;241m*\u001b[39mfunc_kwargs):\n\u001b[1;32m     47\u001b[0m     \u001b[38;5;66;03m# Pass the required argument 'session_queryband' along with other\u001b[39;00m\n\u001b[1;32m     48\u001b[0m     \u001b[38;5;66;03m# expected arguments to collect_queryband() decorator which is\u001b[39;00m\n\u001b[1;32m     49\u001b[0m     \u001b[38;5;66;03m# imported as tdsqlalchemy_collect_queryband.\u001b[39;00m\n\u001b[0;32m---> 50\u001b[0m     \u001b[38;5;28;01mreturn\u001b[39;00m \u001b[43mtdsqlalchemy_collect_queryband\u001b[49m\u001b[43m(\u001b[49m\u001b[43msession_queryband\u001b[49m\u001b[43m,\u001b[49m\u001b[43m \u001b[49m\u001b[38;5;241;43m*\u001b[39;49m\u001b[43mqb_deco_pos_args\u001b[49m\u001b[43m,\u001b[49m\u001b[43m \u001b[49m\u001b[38;5;241;43m*\u001b[39;49m\u001b[38;5;241;43m*\u001b[39;49m\u001b[43mqb_deco_kwargs\u001b[49m\u001b[43m)\u001b[49m\u001b[43m(\u001b[49m\u001b[43mfunc\u001b[49m\u001b[43m)\u001b[49m\u001b[43m(\u001b[49m\u001b[38;5;241;43m*\u001b[39;49m\u001b[43mfunc_args\u001b[49m\u001b[43m,\u001b[49m\u001b[43m \u001b[49m\u001b[38;5;241;43m*\u001b[39;49m\u001b[38;5;241;43m*\u001b[39;49m\u001b[43mfunc_kwargs\u001b[49m\u001b[43m)\u001b[49m\n",
      "File \u001b[0;32m/usr/local/lib/python3.11/site-packages/teradatasqlalchemy/telemetry/queryband.py:382\u001b[0m, in \u001b[0;36mcollect_queryband.<locals>.qb_decorator.<locals>.wrapper\u001b[0;34m(*args, **kwargs)\u001b[0m\n\u001b[1;32m    380\u001b[0m     session_queryband\u001b[38;5;241m.\u001b[39mappend_qb(qb_str)\n\u001b[0;32m--> 382\u001b[0m \u001b[38;5;28;01mreturn\u001b[39;00m \u001b[43mexposed_func\u001b[49m\u001b[43m(\u001b[49m\u001b[38;5;241;43m*\u001b[39;49m\u001b[43margs\u001b[49m\u001b[43m,\u001b[49m\u001b[43m \u001b[49m\u001b[38;5;241;43m*\u001b[39;49m\u001b[38;5;241;43m*\u001b[39;49m\u001b[43mkwargs\u001b[49m\u001b[43m)\u001b[49m\n",
      "File \u001b[0;32m/usr/local/lib/python3.11/site-packages/teradataml/common/utils.py:701\u001b[0m, in \u001b[0;36mUtilFuncs._create_table\u001b[0;34m(table_name, query, volatile)\u001b[0m\n\u001b[1;32m    699\u001b[0m     crt_table \u001b[38;5;241m=\u001b[39m SQLBundle\u001b[38;5;241m.\u001b[39m_build_create_volatile_table_with_data(table_name, query)\n\u001b[0;32m--> 701\u001b[0m \u001b[43mUtilFuncs\u001b[49m\u001b[38;5;241;43m.\u001b[39;49m\u001b[43m_execute_ddl_statement\u001b[49m\u001b[43m(\u001b[49m\u001b[43mcrt_table\u001b[49m\u001b[43m)\u001b[49m\n\u001b[1;32m    702\u001b[0m \u001b[38;5;28;01mreturn\u001b[39;00m \u001b[38;5;28;01mTrue\u001b[39;00m\n",
      "File \u001b[0;32m/usr/local/lib/python3.11/site-packages/teradataml/common/utils.py:522\u001b[0m, in \u001b[0;36mUtilFuncs._execute_ddl_statement\u001b[0;34m(ddl_statement)\u001b[0m\n\u001b[1;32m    521\u001b[0m cursor \u001b[38;5;241m=\u001b[39m conn\u001b[38;5;241m.\u001b[39mcursor()\n\u001b[0;32m--> 522\u001b[0m \u001b[43mcursor\u001b[49m\u001b[38;5;241;43m.\u001b[39;49m\u001b[43mexecute\u001b[49m\u001b[43m(\u001b[49m\u001b[43mddl_statement\u001b[49m\u001b[43m)\u001b[49m\n\u001b[1;32m    524\u001b[0m \u001b[38;5;66;03m# Warnings are displayed when the \"suppress_vantage_runtime_warnings\" attribute is set to 'False'.\u001b[39;00m\n",
      "File \u001b[0;32m/usr/local/lib/python3.11/site-packages/teradatasql/__init__.py:752\u001b[0m, in \u001b[0;36mTeradataCursor.execute\u001b[0;34m(self, sOperation, params, ignoreErrors)\u001b[0m\n\u001b[1;32m    751\u001b[0m \u001b[38;5;28;01mif\u001b[39;00m \u001b[38;5;129;01mnot\u001b[39;00m params:\n\u001b[0;32m--> 752\u001b[0m     \u001b[38;5;28;43mself\u001b[39;49m\u001b[38;5;241;43m.\u001b[39;49m\u001b[43mexecutemany\u001b[49m\u001b[43m \u001b[49m\u001b[43m(\u001b[49m\u001b[43msOperation\u001b[49m\u001b[43m,\u001b[49m\u001b[43m \u001b[49m\u001b[38;5;28;43;01mNone\u001b[39;49;00m\u001b[43m,\u001b[49m\u001b[43m \u001b[49m\u001b[43mignoreErrors\u001b[49m\u001b[43m)\u001b[49m\n\u001b[1;32m    754\u001b[0m \u001b[38;5;28;01melif\u001b[39;00m \u001b[38;5;28mtype\u001b[39m (params [\u001b[38;5;241m0\u001b[39m]) \u001b[38;5;129;01min\u001b[39;00m [\u001b[38;5;28mlist\u001b[39m, \u001b[38;5;28mtuple\u001b[39m]:\n\u001b[1;32m    755\u001b[0m     \u001b[38;5;66;03m# Excerpt from PEP 249 DBAPI documentation:\u001b[39;00m\n\u001b[1;32m    756\u001b[0m     \u001b[38;5;66;03m#  The parameters may also be specified as list of tuples to e.g. insert multiple rows in a single\u001b[39;00m\n\u001b[1;32m    757\u001b[0m     \u001b[38;5;66;03m#  operation, but this kind of usage is deprecated: .executemany() should be used instead.\u001b[39;00m\n",
      "File \u001b[0;32m/usr/local/lib/python3.11/site-packages/teradatasql/__init__.py:1007\u001b[0m, in \u001b[0;36mTeradataCursor.executemany\u001b[0;34m(self, sOperation, seqOfParams, ignoreErrors)\u001b[0m\n\u001b[1;32m   1005\u001b[0m         \u001b[38;5;28;01mreturn\u001b[39;00m\n\u001b[0;32m-> 1007\u001b[0m     \u001b[38;5;28;01mraise\u001b[39;00m OperationalError (sErr)\n\u001b[1;32m   1009\u001b[0m \u001b[38;5;28;01mif\u001b[39;00m \u001b[38;5;28mself\u001b[39m\u001b[38;5;241m.\u001b[39mconnection\u001b[38;5;241m.\u001b[39mbTimingLog:\n",
      "\u001b[0;31mOperationalError\u001b[0m: [Version 20.0.0.21] [Session 1105] [Teradata Database] [Error 9134] Error in function SCRIPT: SCRIPT_COMMAND returned exit value 127 - errmsg \"bash: /var/opt/teradata/languages/sles12sp3/Python//bin/python3: No such file or directory\"\n at gosqldriver/teradatasql.formatError ErrorUtil.go:92\n at gosqldriver/teradatasql.(*teradataConnection).formatDatabaseError ErrorUtil.go:252\n at gosqldriver/teradatasql.(*teradataConnection).makeChainedDatabaseError ErrorUtil.go:268\n at gosqldriver/teradatasql.(*teradataConnection).processErrorParcel TeradataConnection.go:751\n at gosqldriver/teradatasql.(*TeradataRows).processResponseBundle TeradataRows.go:2308\n at gosqldriver/teradatasql.(*TeradataRows).executeSQLRequest TeradataRows.go:874\n at gosqldriver/teradatasql.newTeradataRows TeradataRows.go:720\n at gosqldriver/teradatasql.(*teradataStatement).QueryContext TeradataStatement.go:122\n at gosqldriver/teradatasql.(*teradataConnection).QueryContext TeradataConnection.go:1261\n at database/sql.ctxDriverQuery ctxutil.go:48\n at database/sql.(*DB).queryDC.func1 sql.go:1776\n at database/sql.withLock sql.go:3530\n at database/sql.(*DB).queryDC sql.go:1771\n at database/sql.(*Conn).QueryContext sql.go:2027\n at main.createRows goside.go:1080\n at main.goCreateRows goside.go:959\n at _cgoexp_e3ee842aae7c_goCreateRows _cgo_gotypes.go:414\n at runtime.cgocallbackg1 cgocall.go:403\n at runtime.cgocallbackg cgocall.go:322\n at runtime.cgocallback asm_amd64.s:1079\n at runtime.goexit asm_amd64.s:1695",
      "\nDuring handling of the above exception, another exception occurred:\n",
      "\u001b[0;31mTeradataMlException\u001b[0m                       Traceback (most recent call last)",
      "Cell \u001b[0;32mIn[15], line 2\u001b[0m\n\u001b[1;32m      1\u001b[0m \u001b[38;5;66;03m# UDFを適用する\u001b[39;00m\n\u001b[0;32m----> 2\u001b[0m res \u001b[38;5;241m=\u001b[39m \u001b[43mtd_filtered\u001b[49m\u001b[38;5;241;43m.\u001b[39;49m\u001b[43massign\u001b[49m\u001b[43m(\u001b[49m\u001b[43mudf_example\u001b[49m\u001b[43m \u001b[49m\u001b[38;5;241;43m=\u001b[39;49m\u001b[43m \u001b[49m\u001b[43mudf_example\u001b[49m\u001b[43m(\u001b[49m\u001b[38;5;124;43m'\u001b[39;49m\u001b[38;5;124;43msepallength\u001b[39;49m\u001b[38;5;124;43m'\u001b[39;49m\u001b[43m,\u001b[49m\u001b[43m \u001b[49m\u001b[38;5;124;43m'\u001b[39;49m\u001b[38;5;124;43msepalwidth\u001b[39;49m\u001b[38;5;124;43m'\u001b[39;49m\u001b[43m,\u001b[49m\u001b[43m \u001b[49m\u001b[38;5;124;43m'\u001b[39;49m\u001b[38;5;124;43mpetallength\u001b[39;49m\u001b[38;5;124;43m'\u001b[39;49m\u001b[43m,\u001b[49m\u001b[43m \u001b[49m\u001b[38;5;124;43m'\u001b[39;49m\u001b[38;5;124;43mpetalwidth\u001b[39;49m\u001b[38;5;124;43m'\u001b[39;49m\u001b[43m)\u001b[49m\u001b[43m)\u001b[49m\n",
      "File \u001b[0;32m/usr/local/lib/python3.11/site-packages/teradataml/telemetry_utils/queryband.py:50\u001b[0m, in \u001b[0;36mcollect_queryband.<locals>.outer_wrapper.<locals>.inner_wrapper\u001b[0;34m(*func_args, **func_kwargs)\u001b[0m\n\u001b[1;32m     45\u001b[0m \u001b[38;5;129m@wraps\u001b[39m(func)\n\u001b[1;32m     46\u001b[0m \u001b[38;5;28;01mdef\u001b[39;00m \u001b[38;5;21minner_wrapper\u001b[39m(\u001b[38;5;241m*\u001b[39mfunc_args, \u001b[38;5;241m*\u001b[39m\u001b[38;5;241m*\u001b[39mfunc_kwargs):\n\u001b[1;32m     47\u001b[0m     \u001b[38;5;66;03m# Pass the required argument 'session_queryband' along with other\u001b[39;00m\n\u001b[1;32m     48\u001b[0m     \u001b[38;5;66;03m# expected arguments to collect_queryband() decorator which is\u001b[39;00m\n\u001b[1;32m     49\u001b[0m     \u001b[38;5;66;03m# imported as tdsqlalchemy_collect_queryband.\u001b[39;00m\n\u001b[0;32m---> 50\u001b[0m     \u001b[38;5;28;01mreturn\u001b[39;00m \u001b[43mtdsqlalchemy_collect_queryband\u001b[49m\u001b[43m(\u001b[49m\u001b[43msession_queryband\u001b[49m\u001b[43m,\u001b[49m\u001b[43m \u001b[49m\u001b[38;5;241;43m*\u001b[39;49m\u001b[43mqb_deco_pos_args\u001b[49m\u001b[43m,\u001b[49m\u001b[43m \u001b[49m\u001b[38;5;241;43m*\u001b[39;49m\u001b[38;5;241;43m*\u001b[39;49m\u001b[43mqb_deco_kwargs\u001b[49m\u001b[43m)\u001b[49m\u001b[43m(\u001b[49m\u001b[43mfunc\u001b[49m\u001b[43m)\u001b[49m\u001b[43m(\u001b[49m\u001b[38;5;241;43m*\u001b[39;49m\u001b[43mfunc_args\u001b[49m\u001b[43m,\u001b[49m\u001b[43m \u001b[49m\u001b[38;5;241;43m*\u001b[39;49m\u001b[38;5;241;43m*\u001b[39;49m\u001b[43mfunc_kwargs\u001b[49m\u001b[43m)\u001b[49m\n",
      "File \u001b[0;32m/usr/local/lib/python3.11/site-packages/teradatasqlalchemy/telemetry/queryband.py:382\u001b[0m, in \u001b[0;36mcollect_queryband.<locals>.qb_decorator.<locals>.wrapper\u001b[0;34m(*args, **kwargs)\u001b[0m\n\u001b[1;32m    379\u001b[0m     \u001b[38;5;66;03m# Append queryband to buffer.\u001b[39;00m\n\u001b[1;32m    380\u001b[0m     session_queryband\u001b[38;5;241m.\u001b[39mappend_qb(qb_str)\n\u001b[0;32m--> 382\u001b[0m \u001b[38;5;28;01mreturn\u001b[39;00m \u001b[43mexposed_func\u001b[49m\u001b[43m(\u001b[49m\u001b[38;5;241;43m*\u001b[39;49m\u001b[43margs\u001b[49m\u001b[43m,\u001b[49m\u001b[43m \u001b[49m\u001b[38;5;241;43m*\u001b[39;49m\u001b[38;5;241;43m*\u001b[39;49m\u001b[43mkwargs\u001b[49m\u001b[43m)\u001b[49m\n",
      "File \u001b[0;32m/usr/local/lib/python3.11/site-packages/teradataml/dataframe/dataframe.py:8274\u001b[0m, in \u001b[0;36mDataFrame.assign\u001b[0;34m(self, drop_columns, **kwargs)\u001b[0m\n\u001b[1;32m   8271\u001b[0m         \u001b[38;5;28;01mraise\u001b[39;00m TeradataMlException(msg, errcode) \u001b[38;5;28;01mfrom\u001b[39;00m \u001b[38;5;21;01merr\u001b[39;00m\n\u001b[1;32m   8273\u001b[0m \u001b[38;5;28;01mif\u001b[39;00m \u001b[38;5;28mbool\u001b[39m(udf_expr):\n\u001b[0;32m-> 8274\u001b[0m     df \u001b[38;5;241m=\u001b[39m \u001b[43mdf\u001b[49m\u001b[38;5;241;43m.\u001b[39;49m\u001b[43m_assign_udf\u001b[49m\u001b[43m(\u001b[49m\u001b[43mudf_expr\u001b[49m\u001b[43m)\u001b[49m\n\u001b[1;32m   8276\u001b[0m \u001b[38;5;28;01mif\u001b[39;00m \u001b[38;5;28mbool\u001b[39m(call_udf_expr):\n\u001b[1;32m   8277\u001b[0m     df \u001b[38;5;241m=\u001b[39m df\u001b[38;5;241m.\u001b[39m_assign_call_udf(call_udf_expr)\n",
      "File \u001b[0;32m/usr/local/lib/python3.11/site-packages/teradataml/dataframe/dataframe.py:7626\u001b[0m, in \u001b[0;36mDataFrame._assign_udf\u001b[0;34m(self, udf_expr)\u001b[0m\n\u001b[1;32m   7598\u001b[0m             columns_definitions[colname] \u001b[38;5;241m=\u001b[39m col\u001b[38;5;241m.\u001b[39m_udf\u001b[38;5;241m.\u001b[39m\u001b[38;5;18m__name__\u001b[39m\n\u001b[1;32m   7600\u001b[0m     tbl_operators \u001b[38;5;241m=\u001b[39m _TableOperatorUtils([],\n\u001b[1;32m   7601\u001b[0m                                         df,\n\u001b[1;32m   7602\u001b[0m                                         \u001b[38;5;124m\"\u001b[39m\u001b[38;5;124mudf\u001b[39m\u001b[38;5;124m\"\u001b[39m,\n\u001b[0;32m   (...)\u001b[0m\n\u001b[1;32m   7623\u001b[0m                                             col_name: _Dtypes\u001b[38;5;241m.\u001b[39m_teradata_type_to_python_type(col_type)\n\u001b[1;32m   7624\u001b[0m                                             \u001b[38;5;28;01mfor\u001b[39;00m col_name, col_type \u001b[38;5;129;01min\u001b[39;00m returns\u001b[38;5;241m.\u001b[39mitems()})\n\u001b[0;32m-> 7626\u001b[0m     df \u001b[38;5;241m=\u001b[39m \u001b[43mtbl_operators\u001b[49m\u001b[38;5;241;43m.\u001b[39;49m\u001b[43mexecute\u001b[49m\u001b[43m(\u001b[49m\u001b[43m)\u001b[49m\n\u001b[1;32m   7627\u001b[0m \u001b[38;5;28;01mreturn\u001b[39;00m df\n",
      "File \u001b[0;32m/usr/local/lib/python3.11/site-packages/teradataml/table_operators/table_operator_util.py:457\u001b[0m, in \u001b[0;36m_TableOperatorUtils.execute\u001b[0;34m(self)\u001b[0m\n\u001b[1;32m    453\u001b[0m \u001b[38;5;28;01mtry\u001b[39;00m:\n\u001b[1;32m    454\u001b[0m     \u001b[38;5;28;01mif\u001b[39;00m \u001b[38;5;28mself\u001b[39m\u001b[38;5;241m.\u001b[39moperation \u001b[38;5;129;01min\u001b[39;00m [TableOperatorConstants\u001b[38;5;241m.\u001b[39mMAP_ROW_OP\u001b[38;5;241m.\u001b[39mvalue,\n\u001b[1;32m    455\u001b[0m                           TableOperatorConstants\u001b[38;5;241m.\u001b[39mMAP_PARTITION_OP\u001b[38;5;241m.\u001b[39mvalue] \u001b[38;5;129;01mor\u001b[39;00m \\\n\u001b[1;32m    456\u001b[0m                           (\u001b[38;5;28mself\u001b[39m\u001b[38;5;241m.\u001b[39moperation \u001b[38;5;241m==\u001b[39m TableOperatorConstants\u001b[38;5;241m.\u001b[39mUDF_OP\u001b[38;5;241m.\u001b[39mvalue \u001b[38;5;129;01mand\u001b[39;00m \u001b[38;5;28mself\u001b[39m\u001b[38;5;241m.\u001b[39mexec_mode \u001b[38;5;241m==\u001b[39m \u001b[38;5;124m'\u001b[39m\u001b[38;5;124mIN-DB\u001b[39m\u001b[38;5;124m'\u001b[39m):\n\u001b[0;32m--> 457\u001b[0m         \u001b[38;5;28;01mreturn\u001b[39;00m \u001b[38;5;28;43mself\u001b[39;49m\u001b[38;5;241;43m.\u001b[39;49m\u001b[43m__execute_script_table_operator\u001b[49m\u001b[43m(\u001b[49m\u001b[43m)\u001b[49m\n\u001b[1;32m    458\u001b[0m     \u001b[38;5;28;01melif\u001b[39;00m \u001b[38;5;28mself\u001b[39m\u001b[38;5;241m.\u001b[39moperation \u001b[38;5;241m==\u001b[39m TableOperatorConstants\u001b[38;5;241m.\u001b[39mAPPLY_OP\u001b[38;5;241m.\u001b[39mvalue \u001b[38;5;129;01mor\u001b[39;00m \\\n\u001b[1;32m    459\u001b[0m         (\u001b[38;5;28mself\u001b[39m\u001b[38;5;241m.\u001b[39moperation \u001b[38;5;241m==\u001b[39m TableOperatorConstants\u001b[38;5;241m.\u001b[39mUDF_OP\u001b[38;5;241m.\u001b[39mvalue \u001b[38;5;129;01mand\u001b[39;00m \u001b[38;5;28mself\u001b[39m\u001b[38;5;241m.\u001b[39mexec_mode \u001b[38;5;241m==\u001b[39m \u001b[38;5;124m'\u001b[39m\u001b[38;5;124mREMOTE\u001b[39m\u001b[38;5;124m'\u001b[39m):\n\u001b[1;32m    460\u001b[0m         \u001b[38;5;28;01mreturn\u001b[39;00m \u001b[38;5;28mself\u001b[39m\u001b[38;5;241m.\u001b[39m__execute_apply_table_operator()\n",
      "File \u001b[0;32m/usr/local/lib/python3.11/site-packages/teradataml/table_operators/table_operator_util.py:563\u001b[0m, in \u001b[0;36m_TableOperatorUtils.__execute_script_table_operator\u001b[0;34m(self)\u001b[0m\n\u001b[1;32m    558\u001b[0m     install_file(file_identifier\u001b[38;5;241m=\u001b[39m\u001b[38;5;28mself\u001b[39m\u001b[38;5;241m.\u001b[39mscript_base_name,\n\u001b[1;32m    559\u001b[0m                  file_path\u001b[38;5;241m=\u001b[39m\u001b[38;5;28mself\u001b[39m\u001b[38;5;241m.\u001b[39mscript_path,\n\u001b[1;32m    560\u001b[0m                  suppress_output\u001b[38;5;241m=\u001b[39m\u001b[38;5;28;01mTrue\u001b[39;00m)\n\u001b[1;32m    562\u001b[0m     \u001b[38;5;66;03m# Execute the script.\u001b[39;00m\n\u001b[0;32m--> 563\u001b[0m     \u001b[38;5;28;01mreturn\u001b[39;00m \u001b[43mtable_op_obj\u001b[49m\u001b[38;5;241;43m.\u001b[39;49m\u001b[43mexecute_script\u001b[49m\u001b[43m(\u001b[49m\n\u001b[1;32m    564\u001b[0m \u001b[43m        \u001b[49m\u001b[43moutput_style\u001b[49m\u001b[38;5;241;43m=\u001b[39;49m\u001b[43mOutputStyle\u001b[49m\u001b[38;5;241;43m.\u001b[39;49m\u001b[43mOUTPUT_TABLE\u001b[49m\u001b[38;5;241;43m.\u001b[39;49m\u001b[43mvalue\u001b[49m\u001b[43m)\u001b[49m\n\u001b[1;32m    565\u001b[0m \u001b[38;5;28;01mexcept\u001b[39;00m \u001b[38;5;167;01mException\u001b[39;00m:\n\u001b[1;32m    566\u001b[0m     \u001b[38;5;28;01mraise\u001b[39;00m\n",
      "File \u001b[0;32m/usr/local/lib/python3.11/site-packages/teradataml/table_operators/Script.py:1371\u001b[0m, in \u001b[0;36mScript.execute_script\u001b[0;34m(self, output_style)\u001b[0m\n\u001b[1;32m   1368\u001b[0m \u001b[38;5;28mself\u001b[39m\u001b[38;5;241m.\u001b[39m__form_table_operator_query()\n\u001b[1;32m   1370\u001b[0m \u001b[38;5;66;03m# Execute Table Operator query and return results.\u001b[39;00m\n\u001b[0;32m-> 1371\u001b[0m \u001b[38;5;28;01mreturn\u001b[39;00m \u001b[38;5;28;43mself\u001b[39;49m\u001b[38;5;241;43m.\u001b[39;49m\u001b[43m__execute\u001b[49m\u001b[43m(\u001b[49m\u001b[43moutput_style\u001b[49m\u001b[43m)\u001b[49m\n",
      "File \u001b[0;32m/usr/local/lib/python3.11/site-packages/teradataml/table_operators/Script.py:1709\u001b[0m, in \u001b[0;36mScript.__execute\u001b[0;34m(self, output_style)\u001b[0m\n\u001b[1;32m   1707\u001b[0m         UtilFuncs\u001b[38;5;241m.\u001b[39m_create_view(tblop_stdout_temp_tablename, \u001b[38;5;28mself\u001b[39m\u001b[38;5;241m.\u001b[39m_tblop_query)\n\u001b[1;32m   1708\u001b[0m \u001b[38;5;28;01mexcept\u001b[39;00m \u001b[38;5;167;01mException\u001b[39;00m \u001b[38;5;28;01mas\u001b[39;00m emsg:\n\u001b[0;32m-> 1709\u001b[0m     \u001b[38;5;28;01mraise\u001b[39;00m TeradataMlException(\n\u001b[1;32m   1710\u001b[0m         Messages\u001b[38;5;241m.\u001b[39mget_message(MessageCodes\u001b[38;5;241m.\u001b[39mTDMLDF_EXEC_SQL_FAILED, \u001b[38;5;28mstr\u001b[39m(emsg)),\n\u001b[1;32m   1711\u001b[0m         MessageCodes\u001b[38;5;241m.\u001b[39mTDMLDF_EXEC_SQL_FAILED)\n\u001b[1;32m   1713\u001b[0m \u001b[38;5;28mself\u001b[39m\u001b[38;5;241m.\u001b[39mresult \u001b[38;5;241m=\u001b[39m \u001b[38;5;28mself\u001b[39m\u001b[38;5;241m.\u001b[39m__awu\u001b[38;5;241m.\u001b[39m_create_data_set_object(\n\u001b[1;32m   1714\u001b[0m     df_input\u001b[38;5;241m=\u001b[39mUtilFuncs\u001b[38;5;241m.\u001b[39m_extract_table_name(tblop_stdout_temp_tablename),\n\u001b[1;32m   1715\u001b[0m     source_type\u001b[38;5;241m=\u001b[39m\u001b[38;5;124m\"\u001b[39m\u001b[38;5;124mtable\u001b[39m\u001b[38;5;124m\"\u001b[39m,\n\u001b[1;32m   1716\u001b[0m     database_name\u001b[38;5;241m=\u001b[39mUtilFuncs\u001b[38;5;241m.\u001b[39m_extract_db_name(tblop_stdout_temp_tablename))\n\u001b[1;32m   1718\u001b[0m \u001b[38;5;28;01mreturn\u001b[39;00m \u001b[38;5;28mself\u001b[39m\u001b[38;5;241m.\u001b[39mresult\n",
      "\u001b[0;31mTeradataMlException\u001b[0m: [Teradata][teradataml](TDML_2102) Failed to execute SQL: '[Version 20.0.0.21] [Session 1105] [Teradata Database] [Error 9134] Error in function SCRIPT: SCRIPT_COMMAND returned exit value 127 - errmsg \"bash: /var/opt/teradata/languages/sles12sp3/Python//bin/python3: No such file or directory\"\n at gosqldriver/teradatasql.formatError ErrorUtil.go:92\n at gosqldriver/teradatasql.(*teradataConnection).formatDatabaseError ErrorUtil.go:252\n at gosqldriver/teradatasql.(*teradataConnection).makeChainedDatabaseError ErrorUtil.go:268\n at gosqldriver/teradatasql.(*teradataConnection).processErrorParcel TeradataConnection.go:751\n at gosqldriver/teradatasql.(*TeradataRows).processResponseBundle TeradataRows.go:2308\n at gosqldriver/teradatasql.(*TeradataRows).executeSQLRequest TeradataRows.go:874\n at gosqldriver/teradatasql.newTeradataRows TeradataRows.go:720\n at gosqldriver/teradatasql.(*teradataStatement).QueryContext TeradataStatement.go:122\n at gosqldriver/teradatasql.(*teradataConnection).QueryContext TeradataConnection.go:1261\n at database/sql.ctxDriverQuery ctxutil.go:48\n at database/sql.(*DB).queryDC.func1 sql.go:1776\n at database/sql.withLock sql.go:3530\n at database/sql.(*DB).queryDC sql.go:1771\n at database/sql.(*Conn).QueryContext sql.go:2027\n at main.createRows goside.go:1080\n at main.goCreateRows goside.go:959\n at _cgoexp_e3ee842aae7c_goCreateRows _cgo_gotypes.go:414\n at runtime.cgocallbackg1 cgocall.go:403\n at runtime.cgocallbackg cgocall.go:322\n at runtime.cgocallback asm_amd64.s:1079\n at runtime.goexit asm_amd64.s:1695'"
     ]
    }
   ],
   "source": [
    "# UDFを適用する\n",
    "res = td_filtered.assign(udf_example = udf_example('sepallength', 'sepalwidth', 'petallength', 'petalwidth'))"
   ]
  },
  {
   "cell_type": "markdown",
   "id": "259e22b4-a056-46f2-99ea-70d3c6bd5e47",
   "metadata": {},
   "source": [
    "↑↑↑UDFはうまく動作しなかったが、Teradata Expressの問題と考えられる。実機ではうまくいくはず..."
   ]
  },
  {
   "cell_type": "markdown",
   "id": "9a400c78-9884-41b1-a973-e93a6a9b570f",
   "metadata": {},
   "source": [
    "### 3-4. SUMなどの集約とテーブル出力"
   ]
  },
  {
   "cell_type": "markdown",
   "id": "1f2ec2e0-066c-4856-89cb-ebe8a750048c",
   "metadata": {},
   "source": [
    "#### 集約"
   ]
  },
  {
   "cell_type": "code",
   "execution_count": 17,
   "id": "62c31b6f-9830-44c9-baaa-ad01dcb6378a",
   "metadata": {},
   "outputs": [
    {
     "data": {
      "text/plain": [
       "'select \"category\", sum(idx) AS sum_idx, sum(sepallength) AS sum_sepallength, sum(sepalwidth) AS sum_sepalwidth, sum(petallength) AS sum_petallength, sum(petalwidth) AS sum_petalwidth from (select * from (select \"idx\", \"sepallength\", \"sepalwidth\", \"petallength\", \"petalwidth\", \"lhs\".\"target\" as \"target_t1\", \"rhs\".\"target\" as \"target_t2\", \"category\" from \"iris\" as lhs inner join \"category\" as rhs on \"lhs\".\"target\" = \"rhs\".\"target\") as temp_table where sepallength > CAST(4.5 as FLOAT) AND petalwidth > CAST(0.1 as FLOAT)) as temp_table group by \"category\"'"
      ]
     },
     "execution_count": 17,
     "metadata": {},
     "output_type": "execute_result"
    }
   ],
   "source": [
    "td_aggregated = td_filtered.groupby(\"category\").sum()\n",
    "td_aggregated.show_query()"
   ]
  },
  {
   "cell_type": "markdown",
   "id": "2dcb9bde-60e7-4baf-ba11-33b1bd4220fc",
   "metadata": {},
   "source": [
    "#### テーブル出力"
   ]
  },
  {
   "cell_type": "code",
   "execution_count": 18,
   "id": "2161ce4d-c219-4ed9-8256-917270f58bb2",
   "metadata": {},
   "outputs": [
    {
     "data": {
      "text/html": [
       "<div>\n",
       "<style scoped>\n",
       "    .dataframe tbody tr th:only-of-type {\n",
       "        vertical-align: middle;\n",
       "    }\n",
       "\n",
       "    .dataframe tbody tr th {\n",
       "        vertical-align: top;\n",
       "    }\n",
       "\n",
       "    .dataframe thead th {\n",
       "        text-align: right;\n",
       "    }\n",
       "</style>\n",
       "<table border=\"1\" class=\"dataframe\">\n",
       "  <thead>\n",
       "    <tr style=\"text-align: right;\">\n",
       "      <th></th>\n",
       "      <th>category</th>\n",
       "      <th>sum_idx</th>\n",
       "      <th>sum_sepallength</th>\n",
       "      <th>sum_sepalwidth</th>\n",
       "      <th>sum_petallength</th>\n",
       "      <th>sum_petalwidth</th>\n",
       "    </tr>\n",
       "  </thead>\n",
       "  <tbody>\n",
       "    <tr>\n",
       "      <th>0</th>\n",
       "      <td>CAT-V</td>\n",
       "      <td>7550</td>\n",
       "      <td>593.6</td>\n",
       "      <td>277.0</td>\n",
       "      <td>426.0</td>\n",
       "      <td>132.6</td>\n",
       "    </tr>\n",
       "    <tr>\n",
       "      <th>1</th>\n",
       "      <td>CAT-S</td>\n",
       "      <td>1034</td>\n",
       "      <td>208.5</td>\n",
       "      <td>143.2</td>\n",
       "      <td>60.9</td>\n",
       "      <td>10.9</td>\n",
       "    </tr>\n",
       "  </tbody>\n",
       "</table>\n",
       "</div>"
      ],
      "text/plain": [
       "  category  sum_idx  sum_sepallength  sum_sepalwidth  sum_petallength  \\\n",
       "0    CAT-V     7550            593.6           277.0            426.0   \n",
       "1    CAT-S     1034            208.5           143.2             60.9   \n",
       "\n",
       "   sum_petalwidth  \n",
       "0           132.6  \n",
       "1            10.9  "
      ]
     },
     "execution_count": 18,
     "metadata": {},
     "output_type": "execute_result"
    }
   ],
   "source": [
    "# テーブルに書き込む\n",
    "td_aggregated.to_sql(\"iris_aggegation\", if_exists=\"replace\")\n",
    "\n",
    "# もう一度フェッチして表示する\n",
    "tdml.DataFrame.from_table(\"iris_aggegation\").to_pandas()"
   ]
  },
  {
   "cell_type": "code",
   "execution_count": null,
   "id": "5c616893-90c5-47ef-aa7c-02ed1a91c3f5",
   "metadata": {},
   "outputs": [],
   "source": []
  }
 ],
 "metadata": {
  "kernelspec": {
   "display_name": "Python 3 (ipykernel)",
   "language": "python",
   "name": "python3"
  },
  "language_info": {
   "codemirror_mode": {
    "name": "ipython",
    "version": 3
   },
   "file_extension": ".py",
   "mimetype": "text/x-python",
   "name": "python",
   "nbconvert_exporter": "python",
   "pygments_lexer": "ipython3",
   "version": "3.11.2"
  }
 },
 "nbformat": 4,
 "nbformat_minor": 5
}
