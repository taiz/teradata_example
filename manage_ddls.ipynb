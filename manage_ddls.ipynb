{
 "cells": [
  {
   "cell_type": "markdown",
   "id": "bb4903da-9af4-4e00-b9b0-adb9e21b09db",
   "metadata": {},
   "source": [
    "# テーブル定義をPythonコードで管理する"
   ]
  },
  {
   "cell_type": "markdown",
   "id": "5c3517ee-d3ce-45ff-b0fe-46e7185df32c",
   "metadata": {},
   "source": [
    "## 1. 背景と目的\n",
    "\n",
    "Pythonを導入することでテーブル定義を一元的に管理することが可能と考えられる。ここでは、その可能性を探る。\n",
    "\n",
    "一般に、テーブル定義の管理は煩雑なものとなりやすい。端的にはバージョン管理とドキュメントとの整合性が課題となる。\n",
    "DDL(Create Table文)をレポジトリで一元管理する方針をとることもできるが、実行の手間とドキュメント生成をプログラミングする必要がある。これは、それなりに煩雑なものとなりやすい。\n",
    "\n",
    "ここでは、Pythonと [SQLAlchemy](https://www.sqlalchemy.org/) での解決を図る。\n",
    "SQLAlchemyは [Flask](https://msiz07-flask-docs-ja.readthedocs.io/ja/latest/) などでも採用されている、Pythonでは最も有名なORM(Object-Relational Mapping)である。\n",
    "SQLAlchemyを利用する際は、DDLをPythonコードで表現し、環境(実際のRDBMS)への反映もPythonコードの実行で行うのが一般的である。\n",
    "\n",
    "本項では、SQLAlchemyとTeradata Dialectを用いて、以下を実現する。\n",
    "\n",
    "1. Python/SQLAlchemyTeradata DialectによってDDLを実装する\n",
    "2. 1.をターゲットの環境に向けて実行することにより、実際にテーブルを作成する\n",
    "3. 1.からテーブル定義ドキュメントを生成する"
   ]
  },
  {
   "cell_type": "markdown",
   "id": "27b06b91-04e4-42b3-8a83-8002eaa202d3",
   "metadata": {},
   "source": [
    "## 2. 方針\n",
    "\n",
    "1. DDLは一つのPythonモジュールにまとめる\n",
    "2. ターゲット環境への反映を関数として用意する\n",
    "3. ドキュメント生成は、Json出力に留める\n",
    "   - 実際にはHTMLドキュメントを生成することも可能だが、本来の目的からそれるため割愛する\n",
    "   - Json出力されていれば、HTMLを生成することは容易である"
   ]
  },
  {
   "cell_type": "markdown",
   "id": "dd4f0ac5-ef83-45b3-874c-8c3ca3b19d46",
   "metadata": {},
   "source": [
    "## 3. 実装"
   ]
  },
  {
   "cell_type": "markdown",
   "id": "2f2b9fde-4393-4a4b-a4ed-4743295f43c5",
   "metadata": {},
   "source": [
    "### 3-1. DDLを記述する"
   ]
  },
  {
   "cell_type": "code",
   "execution_count": 1,
   "id": "ca0b0468-8371-484b-94e9-7b8fafa20289",
   "metadata": {},
   "outputs": [],
   "source": [
    "# ddls.pyに必要テーブルがすべて記載されている。直接ファイルを開いて参照のこと\n",
    "import ddls"
   ]
  },
  {
   "cell_type": "markdown",
   "id": "8c1f348c-051d-4114-bd05-1828056cbe4c",
   "metadata": {},
   "source": [
    "### 3-2. DDLを実行してテーブルを作成する"
   ]
  },
  {
   "cell_type": "markdown",
   "id": "8d2e8bc3-9923-4876-b581-99c09fec979f",
   "metadata": {},
   "source": [
    "#### DB接続情報を定義する。接続先はVMwareのTeradata Express"
   ]
  },
  {
   "cell_type": "code",
   "execution_count": 2,
   "id": "bf668018-fb33-4438-9f6e-a6ac6d0236d9",
   "metadata": {},
   "outputs": [],
   "source": [
    "user = 'dbc'\n",
    "password = 'dbc'\n",
    "host = \"192.168.11.9\"\n",
    "database = \"example\"\n",
    "dbs_port = 1025"
   ]
  },
  {
   "cell_type": "markdown",
   "id": "e314a0f2-7c73-4f60-8c6d-8d83935636c6",
   "metadata": {},
   "source": [
    "#### SQLAlchemyでTeradataに接続する"
   ]
  },
  {
   "cell_type": "code",
   "execution_count": 3,
   "id": "c7d3ed99-c1a9-4aa2-b23d-8a6e56ca81f5",
   "metadata": {},
   "outputs": [],
   "source": [
    "import sqlalchemy\n",
    "\n",
    "engine = sqlalchemy.create_engine((\n",
    "  f\"teradatasql://{user}:{password}@{host}/?\"\n",
    "  f\"&database={database}\"\n",
    "  f\"&dbs_port={dbs_port}\"\n",
    "))"
   ]
  },
  {
   "cell_type": "markdown",
   "id": "2b6b5f61-3012-46c7-8cf4-26a8615f4015",
   "metadata": {},
   "source": [
    "#### 初期化(Drop)した上で、作成(Create)する"
   ]
  },
  {
   "cell_type": "code",
   "execution_count": 4,
   "id": "7668a40a-d2e7-42dc-a0d2-81edba916c6a",
   "metadata": {},
   "outputs": [],
   "source": [
    "ddls.drop_all(engine)\n",
    "ddls.create_all(engine)"
   ]
  },
  {
   "cell_type": "code",
   "execution_count": 5,
   "id": "014aedf3-5b1d-49a9-933f-9999bb35726e",
   "metadata": {},
   "outputs": [
    {
     "name": "stdout",
     "output_type": "stream",
     "text": [
      "CREATE SET TABLE EXAMPLE.iris ,FALLBACK ,\n",
      "     NO BEFORE JOURNAL,\n",
      "     NO AFTER JOURNAL,\n",
      "     CHECKSUM = DEFAULT,\n",
      "     DEFAULT MERGEBLOCKRATIO,\n",
      "     MAP = TD_MAP1\n",
      "     (\n",
      "      idx INTEGER NOT NULL,\n",
      "      sepallength FLOAT NOT NULL,\n",
      "      sepalwidth FLOAT NOT NULL,\n",
      "      petallength FLOAT NOT NULL,\n",
      "      petalwidth FLOAT NOT NULL,\n",
      "      target VARCHAR(256) CHARACTER SET UNICODE NOT CASESPECIFIC NOT NULL)\n",
      "UNIQUE PRIMARY INDEX ( idx );\n"
     ]
    }
   ],
   "source": [
    "print(ddls.show_table(engine, 'iris'))"
   ]
  },
  {
   "cell_type": "markdown",
   "id": "c2237c43-0f9c-4874-937e-b9240d518a7d",
   "metadata": {},
   "source": [
    "### 3-3. テーブル定義ドキュメントを出力する"
   ]
  },
  {
   "cell_type": "code",
   "execution_count": 6,
   "id": "b76e1316-cab0-48ee-933e-653f6cf6af49",
   "metadata": {},
   "outputs": [],
   "source": [
    "ddl_all_members = [getattr(ddls, name) for name in dir(ddls)]\n",
    "tables = [member for member in ddl_all_members if isinstance(member, sqlalchemy.Table)]"
   ]
  },
  {
   "cell_type": "code",
   "execution_count": 7,
   "id": "da39f91e-a7c6-493a-9788-9e80d7397db9",
   "metadata": {},
   "outputs": [],
   "source": [
    "def table_to_dict(table):\n",
    "    dialect = None\n",
    "    for item in table.kwargs.values():\n",
    "        dialect = item\n",
    "    return dict(\n",
    "        name=table.name,\n",
    "        columns=[column_to_dict(column) for column in table.columns],\n",
    "        primary_index=dict(cols=dialect.opts['unique primary index'], unique=True) if 'unique primary index' in dialect.opts\n",
    "        else dict(cols=dialect.opts['primary index'], unique=False)\n",
    "    )"
   ]
  },
  {
   "cell_type": "code",
   "execution_count": 8,
   "id": "44978ad5-204f-4489-a3f5-603a0007e745",
   "metadata": {},
   "outputs": [],
   "source": [
    "def column_to_dict(column):\n",
    "    return dict(\n",
    "        name=column.name,\n",
    "        type=column.type,\n",
    "        comment=column.comment,\n",
    "        nullable=column.nullable,\n",
    "    )"
   ]
  },
  {
   "cell_type": "code",
   "execution_count": 9,
   "id": "76af30d4-b18a-495e-bbf2-44a2e77647cb",
   "metadata": {
    "scrolled": true
   },
   "outputs": [
    {
     "name": "stdout",
     "output_type": "stream",
     "text": [
      "----------\n",
      "{'columns': [{'comment': 'Unique ID',\n",
      "              'name': 'idx',\n",
      "              'nullable': False,\n",
      "              'type': Integer()},\n",
      "             {'comment': 'sepal length (cm)',\n",
      "              'name': 'sepallength',\n",
      "              'nullable': False,\n",
      "              'type': Float()},\n",
      "             {'comment': 'sepal width (cm)',\n",
      "              'name': 'sepalwidth',\n",
      "              'nullable': False,\n",
      "              'type': Float()},\n",
      "             {'comment': 'petal length (cm)',\n",
      "              'name': 'petallength',\n",
      "              'nullable': False,\n",
      "              'type': Float()},\n",
      "             {'comment': 'petal width (cm)',\n",
      "              'name': 'petalwidth',\n",
      "              'nullable': False,\n",
      "              'type': Float()},\n",
      "             {'comment': 'Target',\n",
      "              'name': 'target',\n",
      "              'nullable': False,\n",
      "              'type': Unicode(length=256)}],\n",
      " 'name': 'iris',\n",
      " 'primary_index': {'cols': ['idx'], 'unique': True}}\n"
     ]
    }
   ],
   "source": [
    "import pprint\n",
    "\n",
    "for table in tables:\n",
    "    print('----------')\n",
    "    pprint.pprint(table_to_dict(table))"
   ]
  },
  {
   "cell_type": "markdown",
   "id": "37cfc66c-b311-4480-aa16-1232d3318ba0",
   "metadata": {},
   "source": [
    "あとは↑↑↑をHTMLやExcelとして出力すればOK"
   ]
  },
  {
   "cell_type": "code",
   "execution_count": null,
   "id": "7fdd37e2-2008-4e60-acca-5603aa21dd61",
   "metadata": {},
   "outputs": [],
   "source": []
  }
 ],
 "metadata": {
  "kernelspec": {
   "display_name": "Python 3 (ipykernel)",
   "language": "python",
   "name": "python3"
  },
  "language_info": {
   "codemirror_mode": {
    "name": "ipython",
    "version": 3
   },
   "file_extension": ".py",
   "mimetype": "text/x-python",
   "name": "python",
   "nbconvert_exporter": "python",
   "pygments_lexer": "ipython3",
   "version": "3.11.2"
  }
 },
 "nbformat": 4,
 "nbformat_minor": 5
}
