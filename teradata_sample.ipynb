{
 "cells": [
  {
   "cell_type": "code",
   "execution_count": 1,
   "id": "807bb16e-2470-4a80-a74f-df2c93988fc3",
   "metadata": {},
   "outputs": [],
   "source": [
    "import pandas as pd"
   ]
  },
  {
   "cell_type": "code",
   "execution_count": 2,
   "id": "b8f0187a-4980-4830-80c5-8c0b6c72e5b6",
   "metadata": {},
   "outputs": [],
   "source": [
    "import teradatasql"
   ]
  },
  {
   "cell_type": "code",
   "execution_count": 3,
   "id": "12c2d49a-7e1c-423c-8df7-4aec0971f982",
   "metadata": {},
   "outputs": [],
   "source": [
    "conn = teradatasql.connect(host=\"192.168.11.9\", database=\"example\", user=\"dbc\", password=\"dbc\")"
   ]
  },
  {
   "cell_type": "code",
   "execution_count": 4,
   "id": "d7fa2d10-aabd-4f51-9a18-db487ca8da8b",
   "metadata": {},
   "outputs": [],
   "source": [
    "import pandas as pd\n",
    "from sklearn import datasets\n",
    "iris = datasets.load_iris()\n",
    "df = pd.DataFrame(iris.data, columns=iris.feature_names)\n",
    "df['target'] = iris.target_names[iris.target]"
   ]
  },
  {
   "cell_type": "code",
   "execution_count": 5,
   "id": "e0bdb990-88c6-4745-937e-9eb6569c260e",
   "metadata": {},
   "outputs": [
    {
     "data": {
      "text/html": [
       "<div>\n",
       "<style scoped>\n",
       "    .dataframe tbody tr th:only-of-type {\n",
       "        vertical-align: middle;\n",
       "    }\n",
       "\n",
       "    .dataframe tbody tr th {\n",
       "        vertical-align: top;\n",
       "    }\n",
       "\n",
       "    .dataframe thead th {\n",
       "        text-align: right;\n",
       "    }\n",
       "</style>\n",
       "<table border=\"1\" class=\"dataframe\">\n",
       "  <thead>\n",
       "    <tr style=\"text-align: right;\">\n",
       "      <th></th>\n",
       "      <th>sepal length (cm)</th>\n",
       "      <th>sepal width (cm)</th>\n",
       "      <th>petal length (cm)</th>\n",
       "      <th>petal width (cm)</th>\n",
       "      <th>target</th>\n",
       "    </tr>\n",
       "  </thead>\n",
       "  <tbody>\n",
       "    <tr>\n",
       "      <th>0</th>\n",
       "      <td>5.1</td>\n",
       "      <td>3.5</td>\n",
       "      <td>1.4</td>\n",
       "      <td>0.2</td>\n",
       "      <td>setosa</td>\n",
       "    </tr>\n",
       "    <tr>\n",
       "      <th>1</th>\n",
       "      <td>4.9</td>\n",
       "      <td>3.0</td>\n",
       "      <td>1.4</td>\n",
       "      <td>0.2</td>\n",
       "      <td>setosa</td>\n",
       "    </tr>\n",
       "    <tr>\n",
       "      <th>2</th>\n",
       "      <td>4.7</td>\n",
       "      <td>3.2</td>\n",
       "      <td>1.3</td>\n",
       "      <td>0.2</td>\n",
       "      <td>setosa</td>\n",
       "    </tr>\n",
       "    <tr>\n",
       "      <th>3</th>\n",
       "      <td>4.6</td>\n",
       "      <td>3.1</td>\n",
       "      <td>1.5</td>\n",
       "      <td>0.2</td>\n",
       "      <td>setosa</td>\n",
       "    </tr>\n",
       "    <tr>\n",
       "      <th>4</th>\n",
       "      <td>5.0</td>\n",
       "      <td>3.6</td>\n",
       "      <td>1.4</td>\n",
       "      <td>0.2</td>\n",
       "      <td>setosa</td>\n",
       "    </tr>\n",
       "    <tr>\n",
       "      <th>...</th>\n",
       "      <td>...</td>\n",
       "      <td>...</td>\n",
       "      <td>...</td>\n",
       "      <td>...</td>\n",
       "      <td>...</td>\n",
       "    </tr>\n",
       "    <tr>\n",
       "      <th>145</th>\n",
       "      <td>6.7</td>\n",
       "      <td>3.0</td>\n",
       "      <td>5.2</td>\n",
       "      <td>2.3</td>\n",
       "      <td>virginica</td>\n",
       "    </tr>\n",
       "    <tr>\n",
       "      <th>146</th>\n",
       "      <td>6.3</td>\n",
       "      <td>2.5</td>\n",
       "      <td>5.0</td>\n",
       "      <td>1.9</td>\n",
       "      <td>virginica</td>\n",
       "    </tr>\n",
       "    <tr>\n",
       "      <th>147</th>\n",
       "      <td>6.5</td>\n",
       "      <td>3.0</td>\n",
       "      <td>5.2</td>\n",
       "      <td>2.0</td>\n",
       "      <td>virginica</td>\n",
       "    </tr>\n",
       "    <tr>\n",
       "      <th>148</th>\n",
       "      <td>6.2</td>\n",
       "      <td>3.4</td>\n",
       "      <td>5.4</td>\n",
       "      <td>2.3</td>\n",
       "      <td>virginica</td>\n",
       "    </tr>\n",
       "    <tr>\n",
       "      <th>149</th>\n",
       "      <td>5.9</td>\n",
       "      <td>3.0</td>\n",
       "      <td>5.1</td>\n",
       "      <td>1.8</td>\n",
       "      <td>virginica</td>\n",
       "    </tr>\n",
       "  </tbody>\n",
       "</table>\n",
       "<p>150 rows × 5 columns</p>\n",
       "</div>"
      ],
      "text/plain": [
       "     sepal length (cm)  sepal width (cm)  petal length (cm)  petal width (cm)  \\\n",
       "0                  5.1               3.5                1.4               0.2   \n",
       "1                  4.9               3.0                1.4               0.2   \n",
       "2                  4.7               3.2                1.3               0.2   \n",
       "3                  4.6               3.1                1.5               0.2   \n",
       "4                  5.0               3.6                1.4               0.2   \n",
       "..                 ...               ...                ...               ...   \n",
       "145                6.7               3.0                5.2               2.3   \n",
       "146                6.3               2.5                5.0               1.9   \n",
       "147                6.5               3.0                5.2               2.0   \n",
       "148                6.2               3.4                5.4               2.3   \n",
       "149                5.9               3.0                5.1               1.8   \n",
       "\n",
       "        target  \n",
       "0       setosa  \n",
       "1       setosa  \n",
       "2       setosa  \n",
       "3       setosa  \n",
       "4       setosa  \n",
       "..         ...  \n",
       "145  virginica  \n",
       "146  virginica  \n",
       "147  virginica  \n",
       "148  virginica  \n",
       "149  virginica  \n",
       "\n",
       "[150 rows x 5 columns]"
      ]
     },
     "execution_count": 5,
     "metadata": {},
     "output_type": "execute_result"
    }
   ],
   "source": [
    "df"
   ]
  },
  {
   "cell_type": "code",
   "execution_count": 6,
   "id": "b748b889-c20d-4c19-bf05-7d6e5f363d01",
   "metadata": {},
   "outputs": [],
   "source": [
    "df.to_csv('iris.csv', index=False)"
   ]
  },
  {
   "cell_type": "code",
   "execution_count": 7,
   "id": "c99dbce4-6453-4d39-959a-6f121bff1b31",
   "metadata": {},
   "outputs": [
    {
     "data": {
      "text/plain": [
       "Engine(teradatasql://:***@192.168.11.9?DATABASE=example&user=DBC)"
      ]
     },
     "execution_count": 7,
     "metadata": {},
     "output_type": "execute_result"
    }
   ],
   "source": [
    "import teradataml as tdml\n",
    "tdml.create_context(host=\"192.168.11.9\", database=\"example\", user=\"dbc\", password=\"dbc\")"
   ]
  },
  {
   "cell_type": "code",
   "execution_count": 8,
   "id": "005382bb-044f-4b95-b178-a09cc258656a",
   "metadata": {},
   "outputs": [],
   "source": [
    "pd_iris = pd.read_csv('iris.csv')\n",
    "col = ['sepallength', 'sepalwidth', 'petallength', 'petalwidth', 'target']\n",
    "pd_iris.columns = col"
   ]
  },
  {
   "cell_type": "code",
   "execution_count": 9,
   "id": "db475cbe-3bce-4c42-aa43-820da87c2065",
   "metadata": {},
   "outputs": [
    {
     "data": {
      "text/html": [
       "<div>\n",
       "<style scoped>\n",
       "    .dataframe tbody tr th:only-of-type {\n",
       "        vertical-align: middle;\n",
       "    }\n",
       "\n",
       "    .dataframe tbody tr th {\n",
       "        vertical-align: top;\n",
       "    }\n",
       "\n",
       "    .dataframe thead th {\n",
       "        text-align: right;\n",
       "    }\n",
       "</style>\n",
       "<table border=\"1\" class=\"dataframe\">\n",
       "  <thead>\n",
       "    <tr style=\"text-align: right;\">\n",
       "      <th></th>\n",
       "      <th>sepallength</th>\n",
       "      <th>sepalwidth</th>\n",
       "      <th>petallength</th>\n",
       "      <th>petalwidth</th>\n",
       "      <th>target</th>\n",
       "    </tr>\n",
       "  </thead>\n",
       "  <tbody>\n",
       "    <tr>\n",
       "      <th>0</th>\n",
       "      <td>5.1</td>\n",
       "      <td>3.5</td>\n",
       "      <td>1.4</td>\n",
       "      <td>0.2</td>\n",
       "      <td>setosa</td>\n",
       "    </tr>\n",
       "    <tr>\n",
       "      <th>1</th>\n",
       "      <td>4.9</td>\n",
       "      <td>3.0</td>\n",
       "      <td>1.4</td>\n",
       "      <td>0.2</td>\n",
       "      <td>setosa</td>\n",
       "    </tr>\n",
       "    <tr>\n",
       "      <th>2</th>\n",
       "      <td>4.7</td>\n",
       "      <td>3.2</td>\n",
       "      <td>1.3</td>\n",
       "      <td>0.2</td>\n",
       "      <td>setosa</td>\n",
       "    </tr>\n",
       "    <tr>\n",
       "      <th>3</th>\n",
       "      <td>4.6</td>\n",
       "      <td>3.1</td>\n",
       "      <td>1.5</td>\n",
       "      <td>0.2</td>\n",
       "      <td>setosa</td>\n",
       "    </tr>\n",
       "    <tr>\n",
       "      <th>4</th>\n",
       "      <td>5.0</td>\n",
       "      <td>3.6</td>\n",
       "      <td>1.4</td>\n",
       "      <td>0.2</td>\n",
       "      <td>setosa</td>\n",
       "    </tr>\n",
       "    <tr>\n",
       "      <th>...</th>\n",
       "      <td>...</td>\n",
       "      <td>...</td>\n",
       "      <td>...</td>\n",
       "      <td>...</td>\n",
       "      <td>...</td>\n",
       "    </tr>\n",
       "    <tr>\n",
       "      <th>145</th>\n",
       "      <td>6.7</td>\n",
       "      <td>3.0</td>\n",
       "      <td>5.2</td>\n",
       "      <td>2.3</td>\n",
       "      <td>virginica</td>\n",
       "    </tr>\n",
       "    <tr>\n",
       "      <th>146</th>\n",
       "      <td>6.3</td>\n",
       "      <td>2.5</td>\n",
       "      <td>5.0</td>\n",
       "      <td>1.9</td>\n",
       "      <td>virginica</td>\n",
       "    </tr>\n",
       "    <tr>\n",
       "      <th>147</th>\n",
       "      <td>6.5</td>\n",
       "      <td>3.0</td>\n",
       "      <td>5.2</td>\n",
       "      <td>2.0</td>\n",
       "      <td>virginica</td>\n",
       "    </tr>\n",
       "    <tr>\n",
       "      <th>148</th>\n",
       "      <td>6.2</td>\n",
       "      <td>3.4</td>\n",
       "      <td>5.4</td>\n",
       "      <td>2.3</td>\n",
       "      <td>virginica</td>\n",
       "    </tr>\n",
       "    <tr>\n",
       "      <th>149</th>\n",
       "      <td>5.9</td>\n",
       "      <td>3.0</td>\n",
       "      <td>5.1</td>\n",
       "      <td>1.8</td>\n",
       "      <td>virginica</td>\n",
       "    </tr>\n",
       "  </tbody>\n",
       "</table>\n",
       "<p>150 rows × 5 columns</p>\n",
       "</div>"
      ],
      "text/plain": [
       "     sepallength  sepalwidth  petallength  petalwidth     target\n",
       "0            5.1         3.5          1.4         0.2     setosa\n",
       "1            4.9         3.0          1.4         0.2     setosa\n",
       "2            4.7         3.2          1.3         0.2     setosa\n",
       "3            4.6         3.1          1.5         0.2     setosa\n",
       "4            5.0         3.6          1.4         0.2     setosa\n",
       "..           ...         ...          ...         ...        ...\n",
       "145          6.7         3.0          5.2         2.3  virginica\n",
       "146          6.3         2.5          5.0         1.9  virginica\n",
       "147          6.5         3.0          5.2         2.0  virginica\n",
       "148          6.2         3.4          5.4         2.3  virginica\n",
       "149          5.9         3.0          5.1         1.8  virginica\n",
       "\n",
       "[150 rows x 5 columns]"
      ]
     },
     "execution_count": 9,
     "metadata": {},
     "output_type": "execute_result"
    }
   ],
   "source": [
    "pd_iris"
   ]
  },
  {
   "cell_type": "code",
   "execution_count": 10,
   "id": "2d9aa9cc-4ef9-47c7-b201-5a9309968c5b",
   "metadata": {},
   "outputs": [
    {
     "name": "stderr",
     "output_type": "stream",
     "text": [
      "/usr/local/lib/python3.11/site-packages/teradataml/dataframe/copy_to.py:1462: FutureWarning: Series.__getitem__ treating keys as positions is deprecated. In a future version, integer keys will always be treated as labels (consistent with DataFrame behavior). To access a value by position, use `ser.iloc[pos]`\n",
      "  TIMESTAMP(timezone=True) if pt.is_datetime64_ns_dtype(df.dtypes[key])\n",
      "/usr/local/lib/python3.11/site-packages/teradataml/dataframe/copy_to.py:1464: FutureWarning: Series.__getitem__ treating keys as positions is deprecated. In a future version, integer keys will always be treated as labels (consistent with DataFrame behavior). To access a value by position, use `ser.iloc[pos]`\n",
      "  else _get_sqlalchemy_mapping_types(str(df.dtypes[key]))\n",
      "/usr/local/lib/python3.11/site-packages/teradataml/dataframe/copy_to.py:1462: FutureWarning: Series.__getitem__ treating keys as positions is deprecated. In a future version, integer keys will always be treated as labels (consistent with DataFrame behavior). To access a value by position, use `ser.iloc[pos]`\n",
      "  TIMESTAMP(timezone=True) if pt.is_datetime64_ns_dtype(df.dtypes[key])\n",
      "/usr/local/lib/python3.11/site-packages/teradataml/dataframe/copy_to.py:1464: FutureWarning: Series.__getitem__ treating keys as positions is deprecated. In a future version, integer keys will always be treated as labels (consistent with DataFrame behavior). To access a value by position, use `ser.iloc[pos]`\n",
      "  else _get_sqlalchemy_mapping_types(str(df.dtypes[key]))\n",
      "/usr/local/lib/python3.11/site-packages/teradataml/dataframe/copy_to.py:1462: FutureWarning: Series.__getitem__ treating keys as positions is deprecated. In a future version, integer keys will always be treated as labels (consistent with DataFrame behavior). To access a value by position, use `ser.iloc[pos]`\n",
      "  TIMESTAMP(timezone=True) if pt.is_datetime64_ns_dtype(df.dtypes[key])\n",
      "/usr/local/lib/python3.11/site-packages/teradataml/dataframe/copy_to.py:1464: FutureWarning: Series.__getitem__ treating keys as positions is deprecated. In a future version, integer keys will always be treated as labels (consistent with DataFrame behavior). To access a value by position, use `ser.iloc[pos]`\n",
      "  else _get_sqlalchemy_mapping_types(str(df.dtypes[key]))\n",
      "/usr/local/lib/python3.11/site-packages/teradataml/dataframe/copy_to.py:1462: FutureWarning: Series.__getitem__ treating keys as positions is deprecated. In a future version, integer keys will always be treated as labels (consistent with DataFrame behavior). To access a value by position, use `ser.iloc[pos]`\n",
      "  TIMESTAMP(timezone=True) if pt.is_datetime64_ns_dtype(df.dtypes[key])\n",
      "/usr/local/lib/python3.11/site-packages/teradataml/dataframe/copy_to.py:1464: FutureWarning: Series.__getitem__ treating keys as positions is deprecated. In a future version, integer keys will always be treated as labels (consistent with DataFrame behavior). To access a value by position, use `ser.iloc[pos]`\n",
      "  else _get_sqlalchemy_mapping_types(str(df.dtypes[key]))\n",
      "/usr/local/lib/python3.11/site-packages/teradataml/dataframe/copy_to.py:1462: FutureWarning: Series.__getitem__ treating keys as positions is deprecated. In a future version, integer keys will always be treated as labels (consistent with DataFrame behavior). To access a value by position, use `ser.iloc[pos]`\n",
      "  TIMESTAMP(timezone=True) if pt.is_datetime64_ns_dtype(df.dtypes[key])\n",
      "/usr/local/lib/python3.11/site-packages/teradataml/dataframe/copy_to.py:1464: FutureWarning: Series.__getitem__ treating keys as positions is deprecated. In a future version, integer keys will always be treated as labels (consistent with DataFrame behavior). To access a value by position, use `ser.iloc[pos]`\n",
      "  else _get_sqlalchemy_mapping_types(str(df.dtypes[key]))\n",
      "/usr/local/lib/python3.11/site-packages/teradataml/dataframe/copy_to.py:1472: FutureWarning: Series.__getitem__ treating keys as positions is deprecated. In a future version, integer keys will always be treated as labels (consistent with DataFrame behavior). To access a value by position, use `ser.iloc[pos]`\n",
      "  else TIMESTAMP(timezone=True) if pt.is_datetime64_ns_dtype(df.dtypes[key])\n"
     ]
    }
   ],
   "source": [
    "tdml.copy_to_sql(df = pd_iris, schema_name='example', table_name='iris',\n",
    "            index=True, index_label='idx', primary_index='idx', if_exists='replace')"
   ]
  },
  {
   "cell_type": "code",
   "execution_count": 11,
   "id": "98e3d6f5-7be6-4c28-ab22-5b28361dc0c9",
   "metadata": {},
   "outputs": [],
   "source": [
    "res = conn.cursor().execute(\"show table iris\")\n",
    "lines = list(res)"
   ]
  },
  {
   "cell_type": "code",
   "execution_count": 12,
   "id": "1374d40d-d30e-426c-b7a0-4375ca91cfac",
   "metadata": {},
   "outputs": [],
   "source": [
    "ddl = lines[0][0].replace('\\r', \"\\n\")"
   ]
  },
  {
   "cell_type": "code",
   "execution_count": 13,
   "id": "67d444a4-1f77-4ebd-a79f-7f81808edbb2",
   "metadata": {},
   "outputs": [
    {
     "name": "stdout",
     "output_type": "stream",
     "text": [
      "CREATE MULTISET TABLE EXAMPLE.iris ,FALLBACK ,\n",
      "     NO BEFORE JOURNAL,\n",
      "     NO AFTER JOURNAL,\n",
      "     CHECKSUM = DEFAULT,\n",
      "     DEFAULT MERGEBLOCKRATIO,\n",
      "     MAP = TD_MAP1\n",
      "     (\n",
      "      sepallength FLOAT,\n",
      "      sepalwidth FLOAT,\n",
      "      petallength FLOAT,\n",
      "      petalwidth FLOAT,\n",
      "      target VARCHAR(1024) CHARACTER SET UNICODE NOT CASESPECIFIC,\n",
      "      idx BIGINT)\n",
      "PRIMARY INDEX ( idx );\n"
     ]
    }
   ],
   "source": [
    "print(ddl)"
   ]
  },
  {
   "cell_type": "code",
   "execution_count": 14,
   "id": "cfe4f67b-338e-4afd-bd68-c894cf536f4b",
   "metadata": {},
   "outputs": [],
   "source": [
    "teradataml_iris = tdml.DataFrame.from_table(\"iris\")"
   ]
  },
  {
   "cell_type": "code",
   "execution_count": 15,
   "id": "a8c4388c-1642-45e2-97d3-461050f97cc4",
   "metadata": {},
   "outputs": [
    {
     "data": {
      "text/html": [
       "<style type=\"text/css\">\n",
       "\ttable {border:ridge 5px;}\n",
       "\ttable td {border:inset 1px;}\n",
       "\ttable tr#HeaderRow {background-color:grey; color:white;}</style>\n",
       "<html><table>\n",
       "\t<tr id=\"HeaderRow\">\n",
       "\t\t<th>func</th>\n",
       "\t\t<th>sepallength</th>\n",
       "\t\t<th>sepalwidth</th>\n",
       "\t\t<th>petallength</th>\n",
       "\t\t<th>petalwidth</th>\n",
       "\t\t<th>idx</th>\n",
       "\t</tr>\n",
       "\t<tr>\n",
       "\t\t<td>std</td>\n",
       "\t\t<td>0.828</td>\n",
       "\t\t<td>0.436</td>\n",
       "\t\t<td>1.765</td>\n",
       "\t\t<td>0.762</td>\n",
       "\t\t<td>43.445</td>\n",
       "\t</tr>\n",
       "\t<tr>\n",
       "\t\t<td>25%</td>\n",
       "\t\t<td>5.1</td>\n",
       "\t\t<td>2.8</td>\n",
       "\t\t<td>1.6</td>\n",
       "\t\t<td>0.3</td>\n",
       "\t\t<td>37.25</td>\n",
       "\t</tr>\n",
       "\t<tr>\n",
       "\t\t<td>50%</td>\n",
       "\t\t<td>5.8</td>\n",
       "\t\t<td>3</td>\n",
       "\t\t<td>4.35</td>\n",
       "\t\t<td>1.3</td>\n",
       "\t\t<td>74.5</td>\n",
       "\t</tr>\n",
       "\t<tr>\n",
       "\t\t<td>75%</td>\n",
       "\t\t<td>6.4</td>\n",
       "\t\t<td>3.3</td>\n",
       "\t\t<td>5.1</td>\n",
       "\t\t<td>1.8</td>\n",
       "\t\t<td>111.75</td>\n",
       "\t</tr>\n",
       "\t<tr>\n",
       "\t\t<td>max</td>\n",
       "\t\t<td>7.9</td>\n",
       "\t\t<td>4.4</td>\n",
       "\t\t<td>6.9</td>\n",
       "\t\t<td>2.5</td>\n",
       "\t\t<td>149</td>\n",
       "\t</tr>\n",
       "\t<tr>\n",
       "\t\t<td>min</td>\n",
       "\t\t<td>4.3</td>\n",
       "\t\t<td>2</td>\n",
       "\t\t<td>1</td>\n",
       "\t\t<td>0.1</td>\n",
       "\t\t<td>0</td>\n",
       "\t</tr>\n",
       "\t<tr>\n",
       "\t\t<td>mean</td>\n",
       "\t\t<td>5.843</td>\n",
       "\t\t<td>3.057</td>\n",
       "\t\t<td>3.758</td>\n",
       "\t\t<td>1.199</td>\n",
       "\t\t<td>74.5</td>\n",
       "\t</tr>\n",
       "\t<tr>\n",
       "\t\t<td>count</td>\n",
       "\t\t<td>150</td>\n",
       "\t\t<td>150</td>\n",
       "\t\t<td>150</td>\n",
       "\t\t<td>150</td>\n",
       "\t\t<td>150</td>\n",
       "\t</tr>\n",
       "</table></html>"
      ],
      "text/plain": [
       "       sepallength  sepalwidth  petallength  petalwidth      idx\n",
       "func                                                            \n",
       "std          0.828       0.436        1.765       0.762   43.445\n",
       "25%          5.100       2.800        1.600       0.300   37.250\n",
       "50%          5.800       3.000        4.350       1.300   74.500\n",
       "75%          6.400       3.300        5.100       1.800  111.750\n",
       "max          7.900       4.400        6.900       2.500  149.000\n",
       "min          4.300       2.000        1.000       0.100    0.000\n",
       "mean         5.843       3.057        3.758       1.199   74.500\n",
       "count      150.000     150.000      150.000     150.000  150.000"
      ]
     },
     "execution_count": 15,
     "metadata": {},
     "output_type": "execute_result"
    }
   ],
   "source": [
    "teradataml_iris.describe()"
   ]
  },
  {
   "cell_type": "code",
   "execution_count": 16,
   "id": "3d0ce5d0-49f3-44b3-b527-c98fa72c8c65",
   "metadata": {},
   "outputs": [],
   "source": [
    "display.print_sqlmr_query = True"
   ]
  },
  {
   "cell_type": "code",
   "execution_count": 17,
   "id": "977b2700-e5a6-467a-b5c4-84703a31128a",
   "metadata": {},
   "outputs": [
    {
     "data": {
      "text/plain": [
       "'select sum(sepallength) AS sum_sepallength from (select sepallength from \"iris\") as temp_table'"
      ]
     },
     "execution_count": 17,
     "metadata": {},
     "output_type": "execute_result"
    }
   ],
   "source": [
    "teradataml_iris.select('sepallength').sum().show_query()"
   ]
  },
  {
   "cell_type": "code",
   "execution_count": 18,
   "id": "df9c77a5-d0bc-4ce8-bd23-ae56fb26e97a",
   "metadata": {},
   "outputs": [],
   "source": [
    "sub = teradataml_iris[teradataml_iris['sepallength'] > 0.1]"
   ]
  },
  {
   "cell_type": "code",
   "execution_count": 19,
   "id": "a0f66722-b7af-4272-844b-d93d1a23275d",
   "metadata": {},
   "outputs": [
    {
     "data": {
      "text/plain": [
       "'select * from \"iris\" where sepallength > CAST(0.1 as FLOAT)'"
      ]
     },
     "execution_count": 19,
     "metadata": {},
     "output_type": "execute_result"
    }
   ],
   "source": [
    "sub.show_query()"
   ]
  },
  {
   "cell_type": "code",
   "execution_count": 20,
   "id": "bdff7918-7008-41df-964e-7218ecdd3eb9",
   "metadata": {},
   "outputs": [
    {
     "data": {
      "text/plain": [
       "'select sum(sepalwidth) AS sum_sepalwidth from (select sepalwidth from (select * from \"iris\" where sepallength > CAST(0.1 as FLOAT)) as temp_table) as temp_table'"
      ]
     },
     "execution_count": 20,
     "metadata": {},
     "output_type": "execute_result"
    }
   ],
   "source": [
    "sub.select('sepalwidth').sum().show_query()"
   ]
  },
  {
   "cell_type": "code",
   "execution_count": 21,
   "id": "92f07ea6-8c49-4b77-90df-9dfce76c0cd4",
   "metadata": {},
   "outputs": [
    {
     "data": {
      "text/html": [
       "<style type=\"text/css\">\n",
       "\ttable {border:ridge 5px;}\n",
       "\ttable td {border:inset 1px;}\n",
       "\ttable tr#HeaderRow {background-color:grey; color:white;}</style>\n",
       "<html><table>\n",
       "\t<tr id=\"HeaderRow\">\n",
       "\t\t<th>sum_sepalwidth</th>\n",
       "\t</tr>\n",
       "\t<tr>\n",
       "\t\t<td>458.6</td>\n",
       "\t</tr>\n",
       "</table></html>"
      ],
      "text/plain": [
       "   sum_sepalwidth\n",
       "0           458.6"
      ]
     },
     "execution_count": 21,
     "metadata": {},
     "output_type": "execute_result"
    }
   ],
   "source": [
    "sub.select('sepalwidth').sum()"
   ]
  },
  {
   "cell_type": "code",
   "execution_count": 22,
   "id": "17c97951-842e-4b29-8672-084968f85e9c",
   "metadata": {},
   "outputs": [
    {
     "data": {
      "text/plain": [
       "['sepallength', 'sepalwidth', 'petallength', 'petalwidth', 'target', 'idx']"
      ]
     },
     "execution_count": 22,
     "metadata": {},
     "output_type": "execute_result"
    }
   ],
   "source": [
    "sub.keys()"
   ]
  },
  {
   "cell_type": "code",
   "execution_count": 23,
   "id": "c5faca81-fe71-4975-9edd-4f4070255dab",
   "metadata": {},
   "outputs": [],
   "source": [
    "query = sub.select('sepalwidth').sum().show_query()"
   ]
  },
  {
   "cell_type": "code",
   "execution_count": 29,
   "id": "c98e877e-a910-4d9f-9406-0204735ed508",
   "metadata": {},
   "outputs": [
    {
     "data": {
      "text/plain": [
       "[['  1) First, we lock EXAMPLE.iris in TD_MAP1 for read on a reserved'],\n",
       " ['     RowHash to prevent global deadlock.'],\n",
       " ['  2) Next, we lock EXAMPLE.iris in TD_MAP1 for read.'],\n",
       " ['  3) We do an all-AMPs SUM step in TD_MAP1 to aggregate from'],\n",
       " ['     EXAMPLE.iris by way of an all-rows scan with a condition of ('],\n",
       " ['     \"EXAMPLE.iris.sepallength > 1.00000000000000E-001\").  Aggregate'],\n",
       " ['     intermediate results are computed globally, then placed in Spool 3'],\n",
       " ['     in TD_Map1.  The size of Spool 3 is estimated with high confidence'],\n",
       " ['     to be 1 row (23 bytes).  The estimated time for this step is 0.01'],\n",
       " ['     seconds.'],\n",
       " ['  4) We do an all-AMPs RETRIEVE step in TD_Map1 from Spool 3 (Last Use)'],\n",
       " ['     by way of an all-rows scan into Spool 1 (group_amps), which is'],\n",
       " ['     built locally on the AMPs.  The size of Spool 1 is estimated with'],\n",
       " ['     high confidence to be 1 row (29 bytes).  The estimated time for'],\n",
       " ['     this step is 0.00 seconds.'],\n",
       " ['  5) Finally, we send out an END TRANSACTION step to all AMPs involved'],\n",
       " ['     in processing the request.'],\n",
       " ['  -> The contents of Spool 1 are sent back to the user as the result of'],\n",
       " ['     statement 1.  The total estimated time is 0.01 seconds.']]"
      ]
     },
     "execution_count": 29,
     "metadata": {},
     "output_type": "execute_result"
    }
   ],
   "source": [
    "res = conn.cursor().execute(f\"explain {query}\")\n",
    "list(res)"
   ]
  },
  {
   "cell_type": "code",
   "execution_count": null,
   "id": "d4553dff-42c8-449e-aa5e-4aa8dc704a59",
   "metadata": {},
   "outputs": [],
   "source": []
  }
 ],
 "metadata": {
  "kernelspec": {
   "display_name": "Python 3 (ipykernel)",
   "language": "python",
   "name": "python3"
  },
  "language_info": {
   "codemirror_mode": {
    "name": "ipython",
    "version": 3
   },
   "file_extension": ".py",
   "mimetype": "text/x-python",
   "name": "python",
   "nbconvert_exporter": "python",
   "pygments_lexer": "ipython3",
   "version": "3.11.2"
  }
 },
 "nbformat": 4,
 "nbformat_minor": 5
}
